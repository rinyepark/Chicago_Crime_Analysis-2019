{
 "cells": [
  {
   "cell_type": "markdown",
   "metadata": {},
   "source": [
    "# Google BigQuery Connect with Jupyter notebook"
   ]
  },
  {
   "cell_type": "code",
   "execution_count": 1,
   "metadata": {},
   "outputs": [],
   "source": [
    "import pydata_google_auth\n",
    "credentials = pydata_google_auth.get_user_credentials(\n",
    "    ['https://www.googleapis.com/auth/bigquery'],\n",
    ")"
   ]
  },
  {
   "cell_type": "markdown",
   "metadata": {},
   "source": [
    "### Import Python module"
   ]
  },
  {
   "cell_type": "code",
   "execution_count": 2,
   "metadata": {},
   "outputs": [],
   "source": [
    "import pandas as pd\n",
    "import matplotlib.pyplot as plt\n",
    "import numpy as np\n",
    "import seaborn as sns"
   ]
  },
  {
   "cell_type": "markdown",
   "metadata": {},
   "source": [
    "## 모든 범죄 적용"
   ]
  },
  {
   "cell_type": "code",
   "execution_count": 3,
   "metadata": {},
   "outputs": [],
   "source": [
    "query = \"\"\"SELECT *\n",
    "FROM data.crime_timezone\"\"\" \n",
    "project_id = 'modular-magpie-255714'"
   ]
  },
  {
   "cell_type": "code",
   "execution_count": 4,
   "metadata": {},
   "outputs": [],
   "source": [
    "c_timezone = pd.read_gbq(query, project_id=project_id, dialect='standard', credentials=credentials)"
   ]
  },
  {
   "cell_type": "markdown",
   "metadata": {},
   "source": [
    "## numeric to int"
   ]
  },
  {
   "cell_type": "code",
   "execution_count": 39,
   "metadata": {},
   "outputs": [],
   "source": [
    "c_timezone['Timezone'] = c_timezone['Timezone'].astype(int)"
   ]
  },
  {
   "cell_type": "code",
   "execution_count": 6,
   "metadata": {},
   "outputs": [],
   "source": [
    "crime = c_timezone['Primary_Type'].unique()"
   ]
  },
  {
   "cell_type": "code",
   "execution_count": 7,
   "metadata": {},
   "outputs": [],
   "source": [
    "crime_lst= list(crime)"
   ]
  },
  {
   "cell_type": "code",
   "execution_count": 8,
   "metadata": {},
   "outputs": [],
   "source": [
    "time =  c_timezone['Timezone'].unique()"
   ]
  },
  {
   "cell_type": "code",
   "execution_count": 9,
   "metadata": {},
   "outputs": [],
   "source": [
    "time_lst = list(time)"
   ]
  },
  {
   "cell_type": "code",
   "execution_count": 10,
   "metadata": {
    "scrolled": true
   },
   "outputs": [
    {
     "data": {
      "text/html": [
       "<div>\n",
       "<style scoped>\n",
       "    .dataframe tbody tr th:only-of-type {\n",
       "        vertical-align: middle;\n",
       "    }\n",
       "\n",
       "    .dataframe tbody tr th {\n",
       "        vertical-align: top;\n",
       "    }\n",
       "\n",
       "    .dataframe thead th {\n",
       "        text-align: right;\n",
       "    }\n",
       "</style>\n",
       "<table border=\"1\" class=\"dataframe\">\n",
       "  <thead>\n",
       "    <tr style=\"text-align: right;\">\n",
       "      <th></th>\n",
       "      <th>Timezone</th>\n",
       "      <th>Count</th>\n",
       "    </tr>\n",
       "  </thead>\n",
       "  <tbody>\n",
       "    <tr>\n",
       "      <th>Timezone</th>\n",
       "      <td>1.000000</td>\n",
       "      <td>0.121988</td>\n",
       "    </tr>\n",
       "    <tr>\n",
       "      <th>Count</th>\n",
       "      <td>0.121988</td>\n",
       "      <td>1.000000</td>\n",
       "    </tr>\n",
       "  </tbody>\n",
       "</table>\n",
       "</div>"
      ],
      "text/plain": [
       "          Timezone     Count\n",
       "Timezone  1.000000  0.121988\n",
       "Count     0.121988  1.000000"
      ]
     },
     "execution_count": 10,
     "metadata": {},
     "output_type": "execute_result"
    }
   ],
   "source": [
    "c_timezone.corr()"
   ]
  },
  {
   "cell_type": "markdown",
   "metadata": {},
   "source": [
    "# 시간대 별 범죄량"
   ]
  },
  {
   "cell_type": "code",
   "execution_count": 28,
   "metadata": {
    "scrolled": true
   },
   "outputs": [
    {
     "data": {
      "text/html": [
       "<div>\n",
       "<style scoped>\n",
       "    .dataframe tbody tr th:only-of-type {\n",
       "        vertical-align: middle;\n",
       "    }\n",
       "\n",
       "    .dataframe tbody tr th {\n",
       "        vertical-align: top;\n",
       "    }\n",
       "\n",
       "    .dataframe thead th {\n",
       "        text-align: right;\n",
       "    }\n",
       "</style>\n",
       "<table border=\"1\" class=\"dataframe\">\n",
       "  <thead>\n",
       "    <tr style=\"text-align: right;\">\n",
       "      <th></th>\n",
       "      <th>Primary_Type</th>\n",
       "      <th>Timezone</th>\n",
       "      <th>Count</th>\n",
       "    </tr>\n",
       "  </thead>\n",
       "  <tbody>\n",
       "    <tr>\n",
       "      <th>0</th>\n",
       "      <td>THEFT</td>\n",
       "      <td>0</td>\n",
       "      <td>79911</td>\n",
       "    </tr>\n",
       "    <tr>\n",
       "      <th>1</th>\n",
       "      <td>BATTERY</td>\n",
       "      <td>0</td>\n",
       "      <td>63073</td>\n",
       "    </tr>\n",
       "    <tr>\n",
       "      <th>2</th>\n",
       "      <td>CRIMINAL DAMAGE</td>\n",
       "      <td>0</td>\n",
       "      <td>57637</td>\n",
       "    </tr>\n",
       "    <tr>\n",
       "      <th>3</th>\n",
       "      <td>DECEPTIVE PRACTICE</td>\n",
       "      <td>0</td>\n",
       "      <td>28481</td>\n",
       "    </tr>\n",
       "    <tr>\n",
       "      <th>4</th>\n",
       "      <td>NARCOTICS</td>\n",
       "      <td>0</td>\n",
       "      <td>24427</td>\n",
       "    </tr>\n",
       "    <tr>\n",
       "      <th>5</th>\n",
       "      <td>OTHER OFFENSE</td>\n",
       "      <td>0</td>\n",
       "      <td>23979</td>\n",
       "    </tr>\n",
       "    <tr>\n",
       "      <th>6</th>\n",
       "      <td>MOTOR VEHICLE THEFT</td>\n",
       "      <td>0</td>\n",
       "      <td>20561</td>\n",
       "    </tr>\n",
       "    <tr>\n",
       "      <th>7</th>\n",
       "      <td>BURGLARY</td>\n",
       "      <td>0</td>\n",
       "      <td>17464</td>\n",
       "    </tr>\n",
       "    <tr>\n",
       "      <th>8</th>\n",
       "      <td>ASSAULT</td>\n",
       "      <td>0</td>\n",
       "      <td>14022</td>\n",
       "    </tr>\n",
       "    <tr>\n",
       "      <th>9</th>\n",
       "      <td>ROBBERY</td>\n",
       "      <td>0</td>\n",
       "      <td>13423</td>\n",
       "    </tr>\n",
       "    <tr>\n",
       "      <th>10</th>\n",
       "      <td>CRIMINAL TRESPASS</td>\n",
       "      <td>0</td>\n",
       "      <td>6833</td>\n",
       "    </tr>\n",
       "    <tr>\n",
       "      <th>11</th>\n",
       "      <td>OFFENSE INVOLVING CHILDREN</td>\n",
       "      <td>0</td>\n",
       "      <td>5722</td>\n",
       "    </tr>\n",
       "    <tr>\n",
       "      <th>12</th>\n",
       "      <td>WEAPONS VIOLATION</td>\n",
       "      <td>0</td>\n",
       "      <td>4938</td>\n",
       "    </tr>\n",
       "    <tr>\n",
       "      <th>13</th>\n",
       "      <td>CRIM SEXUAL ASSAULT</td>\n",
       "      <td>0</td>\n",
       "      <td>3099</td>\n",
       "    </tr>\n",
       "    <tr>\n",
       "      <th>14</th>\n",
       "      <td>PROSTITUTION</td>\n",
       "      <td>0</td>\n",
       "      <td>2942</td>\n",
       "    </tr>\n",
       "    <tr>\n",
       "      <th>15</th>\n",
       "      <td>SEX OFFENSE</td>\n",
       "      <td>0</td>\n",
       "      <td>2122</td>\n",
       "    </tr>\n",
       "    <tr>\n",
       "      <th>16</th>\n",
       "      <td>PUBLIC PEACE VIOLATION</td>\n",
       "      <td>0</td>\n",
       "      <td>1793</td>\n",
       "    </tr>\n",
       "    <tr>\n",
       "      <th>17</th>\n",
       "      <td>INTERFERENCE WITH PUBLIC OFFICER</td>\n",
       "      <td>0</td>\n",
       "      <td>958</td>\n",
       "    </tr>\n",
       "    <tr>\n",
       "      <th>18</th>\n",
       "      <td>ARSON</td>\n",
       "      <td>0</td>\n",
       "      <td>919</td>\n",
       "    </tr>\n",
       "    <tr>\n",
       "      <th>19</th>\n",
       "      <td>LIQUOR LAW VIOLATION</td>\n",
       "      <td>0</td>\n",
       "      <td>872</td>\n",
       "    </tr>\n",
       "    <tr>\n",
       "      <th>20</th>\n",
       "      <td>HOMICIDE</td>\n",
       "      <td>0</td>\n",
       "      <td>673</td>\n",
       "    </tr>\n",
       "    <tr>\n",
       "      <th>21</th>\n",
       "      <td>GAMBLING</td>\n",
       "      <td>0</td>\n",
       "      <td>336</td>\n",
       "    </tr>\n",
       "    <tr>\n",
       "      <th>22</th>\n",
       "      <td>STALKING</td>\n",
       "      <td>0</td>\n",
       "      <td>206</td>\n",
       "    </tr>\n",
       "    <tr>\n",
       "      <th>23</th>\n",
       "      <td>INTIMIDATION</td>\n",
       "      <td>0</td>\n",
       "      <td>120</td>\n",
       "    </tr>\n",
       "    <tr>\n",
       "      <th>24</th>\n",
       "      <td>KIDNAPPING</td>\n",
       "      <td>0</td>\n",
       "      <td>117</td>\n",
       "    </tr>\n",
       "    <tr>\n",
       "      <th>25</th>\n",
       "      <td>OBSCENITY</td>\n",
       "      <td>0</td>\n",
       "      <td>58</td>\n",
       "    </tr>\n",
       "    <tr>\n",
       "      <th>26</th>\n",
       "      <td>CONCEALED CARRY LICENSE VIOLATION</td>\n",
       "      <td>0</td>\n",
       "      <td>19</td>\n",
       "    </tr>\n",
       "    <tr>\n",
       "      <th>27</th>\n",
       "      <td>HUMAN TRAFFICKING</td>\n",
       "      <td>0</td>\n",
       "      <td>12</td>\n",
       "    </tr>\n",
       "    <tr>\n",
       "      <th>28</th>\n",
       "      <td>NON-CRIMINAL</td>\n",
       "      <td>0</td>\n",
       "      <td>6</td>\n",
       "    </tr>\n",
       "    <tr>\n",
       "      <th>29</th>\n",
       "      <td>PUBLIC INDECENCY</td>\n",
       "      <td>0</td>\n",
       "      <td>5</td>\n",
       "    </tr>\n",
       "    <tr>\n",
       "      <th>...</th>\n",
       "      <td>...</td>\n",
       "      <td>...</td>\n",
       "      <td>...</td>\n",
       "    </tr>\n",
       "    <tr>\n",
       "      <th>744</th>\n",
       "      <td>CRIMINAL DAMAGE</td>\n",
       "      <td>23</td>\n",
       "      <td>42933</td>\n",
       "    </tr>\n",
       "    <tr>\n",
       "      <th>745</th>\n",
       "      <td>NARCOTICS</td>\n",
       "      <td>23</td>\n",
       "      <td>40469</td>\n",
       "    </tr>\n",
       "    <tr>\n",
       "      <th>746</th>\n",
       "      <td>MOTOR VEHICLE THEFT</td>\n",
       "      <td>23</td>\n",
       "      <td>18384</td>\n",
       "    </tr>\n",
       "    <tr>\n",
       "      <th>747</th>\n",
       "      <td>ASSAULT</td>\n",
       "      <td>23</td>\n",
       "      <td>17225</td>\n",
       "    </tr>\n",
       "    <tr>\n",
       "      <th>748</th>\n",
       "      <td>OTHER OFFENSE</td>\n",
       "      <td>23</td>\n",
       "      <td>16183</td>\n",
       "    </tr>\n",
       "    <tr>\n",
       "      <th>749</th>\n",
       "      <td>ROBBERY</td>\n",
       "      <td>23</td>\n",
       "      <td>15082</td>\n",
       "    </tr>\n",
       "    <tr>\n",
       "      <th>750</th>\n",
       "      <td>BURGLARY</td>\n",
       "      <td>23</td>\n",
       "      <td>11738</td>\n",
       "    </tr>\n",
       "    <tr>\n",
       "      <th>751</th>\n",
       "      <td>CRIMINAL TRESPASS</td>\n",
       "      <td>23</td>\n",
       "      <td>8277</td>\n",
       "    </tr>\n",
       "    <tr>\n",
       "      <th>752</th>\n",
       "      <td>WEAPONS VIOLATION</td>\n",
       "      <td>23</td>\n",
       "      <td>5732</td>\n",
       "    </tr>\n",
       "    <tr>\n",
       "      <th>753</th>\n",
       "      <td>PROSTITUTION</td>\n",
       "      <td>23</td>\n",
       "      <td>5405</td>\n",
       "    </tr>\n",
       "    <tr>\n",
       "      <th>754</th>\n",
       "      <td>DECEPTIVE PRACTICE</td>\n",
       "      <td>23</td>\n",
       "      <td>4244</td>\n",
       "    </tr>\n",
       "    <tr>\n",
       "      <th>755</th>\n",
       "      <td>PUBLIC PEACE VIOLATION</td>\n",
       "      <td>23</td>\n",
       "      <td>2345</td>\n",
       "    </tr>\n",
       "    <tr>\n",
       "      <th>756</th>\n",
       "      <td>CRIM SEXUAL ASSAULT</td>\n",
       "      <td>23</td>\n",
       "      <td>1617</td>\n",
       "    </tr>\n",
       "    <tr>\n",
       "      <th>757</th>\n",
       "      <td>OFFENSE INVOLVING CHILDREN</td>\n",
       "      <td>23</td>\n",
       "      <td>1110</td>\n",
       "    </tr>\n",
       "    <tr>\n",
       "      <th>758</th>\n",
       "      <td>LIQUOR LAW VIOLATION</td>\n",
       "      <td>23</td>\n",
       "      <td>1093</td>\n",
       "    </tr>\n",
       "    <tr>\n",
       "      <th>759</th>\n",
       "      <td>INTERFERENCE WITH PUBLIC OFFICER</td>\n",
       "      <td>23</td>\n",
       "      <td>1057</td>\n",
       "    </tr>\n",
       "    <tr>\n",
       "      <th>760</th>\n",
       "      <td>SEX OFFENSE</td>\n",
       "      <td>23</td>\n",
       "      <td>847</td>\n",
       "    </tr>\n",
       "    <tr>\n",
       "      <th>761</th>\n",
       "      <td>ARSON</td>\n",
       "      <td>23</td>\n",
       "      <td>735</td>\n",
       "    </tr>\n",
       "    <tr>\n",
       "      <th>762</th>\n",
       "      <td>HOMICIDE</td>\n",
       "      <td>23</td>\n",
       "      <td>609</td>\n",
       "    </tr>\n",
       "    <tr>\n",
       "      <th>763</th>\n",
       "      <td>GAMBLING</td>\n",
       "      <td>23</td>\n",
       "      <td>564</td>\n",
       "    </tr>\n",
       "    <tr>\n",
       "      <th>764</th>\n",
       "      <td>STALKING</td>\n",
       "      <td>23</td>\n",
       "      <td>130</td>\n",
       "    </tr>\n",
       "    <tr>\n",
       "      <th>765</th>\n",
       "      <td>INTIMIDATION</td>\n",
       "      <td>23</td>\n",
       "      <td>129</td>\n",
       "    </tr>\n",
       "    <tr>\n",
       "      <th>766</th>\n",
       "      <td>KIDNAPPING</td>\n",
       "      <td>23</td>\n",
       "      <td>113</td>\n",
       "    </tr>\n",
       "    <tr>\n",
       "      <th>767</th>\n",
       "      <td>CONCEALED CARRY LICENSE VIOLATION</td>\n",
       "      <td>23</td>\n",
       "      <td>26</td>\n",
       "    </tr>\n",
       "    <tr>\n",
       "      <th>768</th>\n",
       "      <td>OBSCENITY</td>\n",
       "      <td>23</td>\n",
       "      <td>20</td>\n",
       "    </tr>\n",
       "    <tr>\n",
       "      <th>769</th>\n",
       "      <td>OTHER NARCOTIC VIOLATION</td>\n",
       "      <td>23</td>\n",
       "      <td>6</td>\n",
       "    </tr>\n",
       "    <tr>\n",
       "      <th>770</th>\n",
       "      <td>PUBLIC INDECENCY</td>\n",
       "      <td>23</td>\n",
       "      <td>6</td>\n",
       "    </tr>\n",
       "    <tr>\n",
       "      <th>771</th>\n",
       "      <td>NON-CRIMINAL</td>\n",
       "      <td>23</td>\n",
       "      <td>4</td>\n",
       "    </tr>\n",
       "    <tr>\n",
       "      <th>772</th>\n",
       "      <td>RITUALISM</td>\n",
       "      <td>23</td>\n",
       "      <td>2</td>\n",
       "    </tr>\n",
       "    <tr>\n",
       "      <th>773</th>\n",
       "      <td>NON-CRIMINAL (SUBJECT SPECIFIED)</td>\n",
       "      <td>23</td>\n",
       "      <td>1</td>\n",
       "    </tr>\n",
       "  </tbody>\n",
       "</table>\n",
       "<p>774 rows × 3 columns</p>\n",
       "</div>"
      ],
      "text/plain": [
       "                          Primary_Type Timezone  Count\n",
       "0                                THEFT        0  79911\n",
       "1                              BATTERY        0  63073\n",
       "2                      CRIMINAL DAMAGE        0  57637\n",
       "3                   DECEPTIVE PRACTICE        0  28481\n",
       "4                            NARCOTICS        0  24427\n",
       "5                        OTHER OFFENSE        0  23979\n",
       "6                  MOTOR VEHICLE THEFT        0  20561\n",
       "7                             BURGLARY        0  17464\n",
       "8                              ASSAULT        0  14022\n",
       "9                              ROBBERY        0  13423\n",
       "10                   CRIMINAL TRESPASS        0   6833\n",
       "11          OFFENSE INVOLVING CHILDREN        0   5722\n",
       "12                   WEAPONS VIOLATION        0   4938\n",
       "13                 CRIM SEXUAL ASSAULT        0   3099\n",
       "14                        PROSTITUTION        0   2942\n",
       "15                         SEX OFFENSE        0   2122\n",
       "16              PUBLIC PEACE VIOLATION        0   1793\n",
       "17    INTERFERENCE WITH PUBLIC OFFICER        0    958\n",
       "18                               ARSON        0    919\n",
       "19                LIQUOR LAW VIOLATION        0    872\n",
       "20                            HOMICIDE        0    673\n",
       "21                            GAMBLING        0    336\n",
       "22                            STALKING        0    206\n",
       "23                        INTIMIDATION        0    120\n",
       "24                          KIDNAPPING        0    117\n",
       "25                           OBSCENITY        0     58\n",
       "26   CONCEALED CARRY LICENSE VIOLATION        0     19\n",
       "27                   HUMAN TRAFFICKING        0     12\n",
       "28                        NON-CRIMINAL        0      6\n",
       "29                    PUBLIC INDECENCY        0      5\n",
       "..                                 ...      ...    ...\n",
       "744                    CRIMINAL DAMAGE       23  42933\n",
       "745                          NARCOTICS       23  40469\n",
       "746                MOTOR VEHICLE THEFT       23  18384\n",
       "747                            ASSAULT       23  17225\n",
       "748                      OTHER OFFENSE       23  16183\n",
       "749                            ROBBERY       23  15082\n",
       "750                           BURGLARY       23  11738\n",
       "751                  CRIMINAL TRESPASS       23   8277\n",
       "752                  WEAPONS VIOLATION       23   5732\n",
       "753                       PROSTITUTION       23   5405\n",
       "754                 DECEPTIVE PRACTICE       23   4244\n",
       "755             PUBLIC PEACE VIOLATION       23   2345\n",
       "756                CRIM SEXUAL ASSAULT       23   1617\n",
       "757         OFFENSE INVOLVING CHILDREN       23   1110\n",
       "758               LIQUOR LAW VIOLATION       23   1093\n",
       "759   INTERFERENCE WITH PUBLIC OFFICER       23   1057\n",
       "760                        SEX OFFENSE       23    847\n",
       "761                              ARSON       23    735\n",
       "762                           HOMICIDE       23    609\n",
       "763                           GAMBLING       23    564\n",
       "764                           STALKING       23    130\n",
       "765                       INTIMIDATION       23    129\n",
       "766                         KIDNAPPING       23    113\n",
       "767  CONCEALED CARRY LICENSE VIOLATION       23     26\n",
       "768                          OBSCENITY       23     20\n",
       "769           OTHER NARCOTIC VIOLATION       23      6\n",
       "770                   PUBLIC INDECENCY       23      6\n",
       "771                       NON-CRIMINAL       23      4\n",
       "772                          RITUALISM       23      2\n",
       "773   NON-CRIMINAL (SUBJECT SPECIFIED)       23      1\n",
       "\n",
       "[774 rows x 3 columns]"
      ]
     },
     "execution_count": 28,
     "metadata": {},
     "output_type": "execute_result"
    }
   ],
   "source": [
    "c_timezone"
   ]
  },
  {
   "cell_type": "code",
   "execution_count": 29,
   "metadata": {},
   "outputs": [],
   "source": [
    "c_timezone['Timezone'] = c_timezone['Timezone'].astype(str)"
   ]
  },
  {
   "cell_type": "code",
   "execution_count": 30,
   "metadata": {},
   "outputs": [],
   "source": [
    "import plotly.express as px\n",
    "\n",
    "fig = px.bar(c_timezone, x = \"Timezone\",y = \"Count\", color = \"Primary_Type\")\n",
    "\n",
    "# for i in range(len(time_lst)):\n",
    "#     tmp.plot(kind = \"barh\",stacked = True)\n",
    "#     break"
   ]
  },
  {
   "cell_type": "code",
   "execution_count": 20,
   "metadata": {},
   "outputs": [
    {
     "data": {
      "application/vnd.plotly.v1+json": {
       "config": {
        "plotlyServerURL": "https://plot.ly"
       },
       "data": [
        {
         "alignmentgroup": "True",
         "hoverlabel": {
          "namelength": 0
         },
         "hovertemplate": "Primary_Type=THEFT<br>Timezone=%{x}<br>Count=%{y}",
         "legendgroup": "Primary_Type=THEFT",
         "marker": {
          "color": "#636efa"
         },
         "name": "Primary_Type=THEFT",
         "offsetgroup": "Primary_Type=THEFT",
         "orientation": "v",
         "showlegend": true,
         "textposition": "auto",
         "type": "bar",
         "x": [
          "0",
          "1",
          "2",
          "3",
          "4",
          "5",
          "6",
          "7",
          "8",
          "9",
          "10",
          "11",
          "12",
          "13",
          "14",
          "15",
          "16",
          "17",
          "18",
          "19",
          "20",
          "21",
          "22",
          "23"
         ],
         "xaxis": "x",
         "y": [
          79911,
          33129,
          26554,
          21169,
          16049,
          15759,
          22473,
          36173,
          55158,
          75031,
          67480,
          67413,
          101678,
          81230,
          85739,
          91277,
          86679,
          88659,
          87613,
          76725,
          68738,
          61136,
          61787,
          47923
         ],
         "yaxis": "y"
        },
        {
         "alignmentgroup": "True",
         "hoverlabel": {
          "namelength": 0
         },
         "hovertemplate": "Primary_Type=BATTERY<br>Timezone=%{x}<br>Count=%{y}",
         "legendgroup": "Primary_Type=BATTERY",
         "marker": {
          "color": "#EF553B"
         },
         "name": "Primary_Type=BATTERY",
         "offsetgroup": "Primary_Type=BATTERY",
         "orientation": "v",
         "showlegend": true,
         "textposition": "auto",
         "type": "bar",
         "x": [
          "0",
          "1",
          "2",
          "3",
          "4",
          "5",
          "6",
          "7",
          "8",
          "9",
          "10",
          "11",
          "12",
          "13",
          "14",
          "15",
          "16",
          "17",
          "18",
          "19",
          "20",
          "21",
          "22",
          "23"
         ],
         "xaxis": "x",
         "y": [
          63073,
          60704,
          54154,
          43920,
          30845,
          20975,
          17805,
          22376,
          33848,
          39656,
          44708,
          50628,
          55459,
          54971,
          64028,
          69390,
          63206,
          62642,
          65660,
          67911,
          69824,
          72269,
          72793,
          68537
         ],
         "yaxis": "y"
        },
        {
         "alignmentgroup": "True",
         "hoverlabel": {
          "namelength": 0
         },
         "hovertemplate": "Primary_Type=CRIMINAL DAMAGE<br>Timezone=%{x}<br>Count=%{y}",
         "legendgroup": "Primary_Type=CRIMINAL DAMAGE",
         "marker": {
          "color": "#00cc96"
         },
         "name": "Primary_Type=CRIMINAL DAMAGE",
         "offsetgroup": "Primary_Type=CRIMINAL DAMAGE",
         "orientation": "v",
         "showlegend": true,
         "textposition": "auto",
         "type": "bar",
         "x": [
          "0",
          "1",
          "2",
          "3",
          "4",
          "5",
          "6",
          "7",
          "8",
          "9",
          "10",
          "11",
          "12",
          "13",
          "14",
          "15",
          "16",
          "17",
          "18",
          "19",
          "20",
          "21",
          "22",
          "23"
         ],
         "xaxis": "x",
         "y": [
          57637,
          33785,
          28987,
          24076,
          18756,
          15025,
          15448,
          20394,
          25820,
          26590,
          24693,
          23115,
          29271,
          24853,
          28432,
          33019,
          35132,
          40528,
          45329,
          44934,
          47665,
          50160,
          54095,
          42933
         ],
         "yaxis": "y"
        },
        {
         "alignmentgroup": "True",
         "hoverlabel": {
          "namelength": 0
         },
         "hovertemplate": "Primary_Type=DECEPTIVE PRACTICE<br>Timezone=%{x}<br>Count=%{y}",
         "legendgroup": "Primary_Type=DECEPTIVE PRACTICE",
         "marker": {
          "color": "#ab63fa"
         },
         "name": "Primary_Type=DECEPTIVE PRACTICE",
         "offsetgroup": "Primary_Type=DECEPTIVE PRACTICE",
         "orientation": "v",
         "showlegend": true,
         "textposition": "auto",
         "type": "bar",
         "x": [
          "0",
          "1",
          "2",
          "3",
          "4",
          "5",
          "6",
          "7",
          "8",
          "9",
          "10",
          "11",
          "12",
          "13",
          "14",
          "15",
          "16",
          "17",
          "18",
          "19",
          "20",
          "21",
          "22",
          "23"
         ],
         "xaxis": "x",
         "y": [
          28481,
          3805,
          3420,
          2973,
          2258,
          1744,
          2194,
          3947,
          11421,
          28706,
          16862,
          12636,
          31442,
          14995,
          15319,
          15882,
          14274,
          13496,
          11314,
          9997,
          8143,
          5851,
          4856,
          4244
         ],
         "yaxis": "y"
        },
        {
         "alignmentgroup": "True",
         "hoverlabel": {
          "namelength": 0
         },
         "hovertemplate": "Primary_Type=NARCOTICS<br>Timezone=%{x}<br>Count=%{y}",
         "legendgroup": "Primary_Type=NARCOTICS",
         "marker": {
          "color": "#FFA15A"
         },
         "name": "Primary_Type=NARCOTICS",
         "offsetgroup": "Primary_Type=NARCOTICS",
         "orientation": "v",
         "showlegend": true,
         "textposition": "auto",
         "type": "bar",
         "x": [
          "0",
          "1",
          "2",
          "3",
          "4",
          "5",
          "6",
          "7",
          "8",
          "9",
          "10",
          "11",
          "12",
          "13",
          "14",
          "15",
          "16",
          "17",
          "18",
          "19",
          "20",
          "21",
          "22",
          "23"
         ],
         "xaxis": "x",
         "y": [
          24427,
          14520,
          9200,
          6252,
          3868,
          1881,
          3775,
          4927,
          10280,
          15873,
          30288,
          46497,
          46956,
          46102,
          42527,
          36330,
          31363,
          28128,
          38810,
          59505,
          59620,
          58831,
          52988,
          40469
         ],
         "yaxis": "y"
        },
        {
         "alignmentgroup": "True",
         "hoverlabel": {
          "namelength": 0
         },
         "hovertemplate": "Primary_Type=OTHER OFFENSE<br>Timezone=%{x}<br>Count=%{y}",
         "legendgroup": "Primary_Type=OTHER OFFENSE",
         "marker": {
          "color": "#19d3f3"
         },
         "name": "Primary_Type=OTHER OFFENSE",
         "offsetgroup": "Primary_Type=OTHER OFFENSE",
         "orientation": "v",
         "showlegend": true,
         "textposition": "auto",
         "type": "bar",
         "x": [
          "0",
          "1",
          "2",
          "3",
          "4",
          "5",
          "6",
          "7",
          "8",
          "9",
          "10",
          "11",
          "12",
          "13",
          "14",
          "15",
          "16",
          "17",
          "18",
          "19",
          "20",
          "21",
          "22",
          "23"
         ],
         "xaxis": "x",
         "y": [
          23979,
          10767,
          8663,
          6552,
          4844,
          4618,
          6577,
          10740,
          18202,
          27055,
          24565,
          21869,
          29831,
          20138,
          20495,
          22049,
          21284,
          21810,
          22767,
          23145,
          22631,
          21549,
          19638,
          16183
         ],
         "yaxis": "y"
        },
        {
         "alignmentgroup": "True",
         "hoverlabel": {
          "namelength": 0
         },
         "hovertemplate": "Primary_Type=MOTOR VEHICLE THEFT<br>Timezone=%{x}<br>Count=%{y}",
         "legendgroup": "Primary_Type=MOTOR VEHICLE THEFT",
         "marker": {
          "color": "#FF6692"
         },
         "name": "Primary_Type=MOTOR VEHICLE THEFT",
         "offsetgroup": "Primary_Type=MOTOR VEHICLE THEFT",
         "orientation": "v",
         "showlegend": true,
         "textposition": "auto",
         "type": "bar",
         "x": [
          "0",
          "1",
          "2",
          "3",
          "4",
          "5",
          "6",
          "7",
          "8",
          "9",
          "10",
          "11",
          "12",
          "13",
          "14",
          "15",
          "16",
          "17",
          "18",
          "19",
          "20",
          "21",
          "22",
          "23"
         ],
         "xaxis": "x",
         "y": [
          20561,
          11063,
          8997,
          7222,
          5869,
          6418,
          8637,
          11047,
          12673,
          13023,
          10826,
          9212,
          13292,
          9542,
          10747,
          12491,
          13111,
          14861,
          17868,
          17930,
          19966,
          21099,
          24225,
          18384
         ],
         "yaxis": "y"
        },
        {
         "alignmentgroup": "True",
         "hoverlabel": {
          "namelength": 0
         },
         "hovertemplate": "Primary_Type=BURGLARY<br>Timezone=%{x}<br>Count=%{y}",
         "legendgroup": "Primary_Type=BURGLARY",
         "marker": {
          "color": "#B6E880"
         },
         "name": "Primary_Type=BURGLARY",
         "offsetgroup": "Primary_Type=BURGLARY",
         "orientation": "v",
         "showlegend": true,
         "textposition": "auto",
         "type": "bar",
         "x": [
          "0",
          "1",
          "2",
          "3",
          "4",
          "5",
          "6",
          "7",
          "8",
          "9",
          "10",
          "11",
          "12",
          "13",
          "14",
          "15",
          "16",
          "17",
          "18",
          "19",
          "20",
          "21",
          "22",
          "23"
         ],
         "xaxis": "x",
         "y": [
          17464,
          9039,
          8410,
          7941,
          7604,
          9000,
          12956,
          21058,
          26375,
          23606,
          21220,
          19387,
          23130,
          18559,
          18997,
          19283,
          18392,
          19445,
          19392,
          16553,
          15170,
          14703,
          15466,
          11738
         ],
         "yaxis": "y"
        },
        {
         "alignmentgroup": "True",
         "hoverlabel": {
          "namelength": 0
         },
         "hovertemplate": "Primary_Type=ASSAULT<br>Timezone=%{x}<br>Count=%{y}",
         "legendgroup": "Primary_Type=ASSAULT",
         "marker": {
          "color": "#FF97FF"
         },
         "name": "Primary_Type=ASSAULT",
         "offsetgroup": "Primary_Type=ASSAULT",
         "orientation": "v",
         "showlegend": true,
         "textposition": "auto",
         "type": "bar",
         "x": [
          "0",
          "1",
          "2",
          "3",
          "4",
          "5",
          "6",
          "7",
          "8",
          "9",
          "10",
          "11",
          "12",
          "13",
          "14",
          "15",
          "16",
          "17",
          "18",
          "19",
          "20",
          "21",
          "22",
          "23"
         ],
         "xaxis": "x",
         "y": [
          14022,
          11256,
          9246,
          6779,
          5000,
          4043,
          4822,
          8201,
          15170,
          18662,
          21019,
          22949,
          25147,
          24283,
          27382,
          28918,
          26383,
          25674,
          25674,
          25068,
          24489,
          22773,
          20187,
          17225
         ],
         "yaxis": "y"
        },
        {
         "alignmentgroup": "True",
         "hoverlabel": {
          "namelength": 0
         },
         "hovertemplate": "Primary_Type=ROBBERY<br>Timezone=%{x}<br>Count=%{y}",
         "legendgroup": "Primary_Type=ROBBERY",
         "marker": {
          "color": "#FECB52"
         },
         "name": "Primary_Type=ROBBERY",
         "offsetgroup": "Primary_Type=ROBBERY",
         "orientation": "v",
         "showlegend": true,
         "textposition": "auto",
         "type": "bar",
         "x": [
          "0",
          "1",
          "2",
          "3",
          "4",
          "5",
          "6",
          "7",
          "8",
          "9",
          "10",
          "11",
          "12",
          "13",
          "14",
          "15",
          "16",
          "17",
          "18",
          "19",
          "20",
          "21",
          "22",
          "23"
         ],
         "xaxis": "x",
         "y": [
          13423,
          12706,
          11422,
          9764,
          7940,
          6062,
          4867,
          4640,
          5365,
          6254,
          7436,
          8720,
          9528,
          9970,
          11018,
          12762,
          13103,
          13254,
          14422,
          15059,
          15636,
          16566,
          16156,
          15082
         ],
         "yaxis": "y"
        },
        {
         "alignmentgroup": "True",
         "hoverlabel": {
          "namelength": 0
         },
         "hovertemplate": "Primary_Type=CRIMINAL TRESPASS<br>Timezone=%{x}<br>Count=%{y}",
         "legendgroup": "Primary_Type=CRIMINAL TRESPASS",
         "marker": {
          "color": "#636efa"
         },
         "name": "Primary_Type=CRIMINAL TRESPASS",
         "offsetgroup": "Primary_Type=CRIMINAL TRESPASS",
         "orientation": "v",
         "showlegend": true,
         "textposition": "auto",
         "type": "bar",
         "x": [
          "0",
          "1",
          "2",
          "3",
          "4",
          "5",
          "6",
          "7",
          "8",
          "9",
          "10",
          "11",
          "12",
          "13",
          "14",
          "15",
          "16",
          "17",
          "18",
          "19",
          "20",
          "21",
          "22",
          "23"
         ],
         "xaxis": "x",
         "y": [
          6833,
          5209,
          4257,
          3380,
          2711,
          2356,
          2645,
          4471,
          6664,
          7872,
          9032,
          10665,
          10869,
          10542,
          10838,
          10504,
          10157,
          10309,
          11631,
          13365,
          13011,
          12305,
          10359,
          8277
         ],
         "yaxis": "y"
        },
        {
         "alignmentgroup": "True",
         "hoverlabel": {
          "namelength": 0
         },
         "hovertemplate": "Primary_Type=OFFENSE INVOLVING CHILDREN<br>Timezone=%{x}<br>Count=%{y}",
         "legendgroup": "Primary_Type=OFFENSE INVOLVING CHILDREN",
         "marker": {
          "color": "#EF553B"
         },
         "name": "Primary_Type=OFFENSE INVOLVING CHILDREN",
         "offsetgroup": "Primary_Type=OFFENSE INVOLVING CHILDREN",
         "orientation": "v",
         "showlegend": true,
         "textposition": "auto",
         "type": "bar",
         "x": [
          "0",
          "1",
          "2",
          "3",
          "4",
          "5",
          "6",
          "7",
          "8",
          "9",
          "10",
          "11",
          "12",
          "13",
          "14",
          "15",
          "16",
          "17",
          "18",
          "19",
          "20",
          "21",
          "22",
          "23"
         ],
         "xaxis": "x",
         "y": [
          5722,
          703,
          457,
          401,
          263,
          303,
          499,
          1095,
          1929,
          2269,
          2230,
          1576,
          2674,
          1637,
          2075,
          2850,
          2824,
          3045,
          3340,
          2517,
          2279,
          1738,
          1516,
          1110
         ],
         "yaxis": "y"
        },
        {
         "alignmentgroup": "True",
         "hoverlabel": {
          "namelength": 0
         },
         "hovertemplate": "Primary_Type=WEAPONS VIOLATION<br>Timezone=%{x}<br>Count=%{y}",
         "legendgroup": "Primary_Type=WEAPONS VIOLATION",
         "marker": {
          "color": "#00cc96"
         },
         "name": "Primary_Type=WEAPONS VIOLATION",
         "offsetgroup": "Primary_Type=WEAPONS VIOLATION",
         "orientation": "v",
         "showlegend": true,
         "textposition": "auto",
         "type": "bar",
         "x": [
          "0",
          "1",
          "2",
          "3",
          "4",
          "5",
          "6",
          "7",
          "8",
          "9",
          "10",
          "11",
          "12",
          "13",
          "14",
          "15",
          "16",
          "17",
          "18",
          "19",
          "20",
          "21",
          "22",
          "23"
         ],
         "xaxis": "x",
         "y": [
          4938,
          3348,
          2306,
          1567,
          1051,
          517,
          648,
          805,
          1818,
          2069,
          2348,
          2970,
          3019,
          3095,
          3074,
          3054,
          2750,
          2683,
          3986,
          5450,
          5756,
          6269,
          6422,
          5732
         ],
         "yaxis": "y"
        },
        {
         "alignmentgroup": "True",
         "hoverlabel": {
          "namelength": 0
         },
         "hovertemplate": "Primary_Type=CRIM SEXUAL ASSAULT<br>Timezone=%{x}<br>Count=%{y}",
         "legendgroup": "Primary_Type=CRIM SEXUAL ASSAULT",
         "marker": {
          "color": "#ab63fa"
         },
         "name": "Primary_Type=CRIM SEXUAL ASSAULT",
         "offsetgroup": "Primary_Type=CRIM SEXUAL ASSAULT",
         "orientation": "v",
         "showlegend": true,
         "textposition": "auto",
         "type": "bar",
         "x": [
          "0",
          "1",
          "2",
          "3",
          "4",
          "5",
          "6",
          "7",
          "8",
          "9",
          "10",
          "11",
          "12",
          "13",
          "14",
          "15",
          "16",
          "17",
          "18",
          "19",
          "20",
          "21",
          "22",
          "23"
         ],
         "xaxis": "x",
         "y": [
          3099,
          1635,
          1746,
          1641,
          1360,
          968,
          704,
          610,
          653,
          681,
          591,
          564,
          861,
          640,
          771,
          980,
          956,
          926,
          970,
          1025,
          1224,
          1279,
          1615,
          1617
         ],
         "yaxis": "y"
        },
        {
         "alignmentgroup": "True",
         "hoverlabel": {
          "namelength": 0
         },
         "hovertemplate": "Primary_Type=PROSTITUTION<br>Timezone=%{x}<br>Count=%{y}",
         "legendgroup": "Primary_Type=PROSTITUTION",
         "marker": {
          "color": "#FFA15A"
         },
         "name": "Primary_Type=PROSTITUTION",
         "offsetgroup": "Primary_Type=PROSTITUTION",
         "orientation": "v",
         "showlegend": true,
         "textposition": "auto",
         "type": "bar",
         "x": [
          "0",
          "1",
          "2",
          "3",
          "4",
          "5",
          "6",
          "7",
          "8",
          "9",
          "10",
          "11",
          "12",
          "13",
          "14",
          "15",
          "16",
          "17",
          "18",
          "19",
          "20",
          "21",
          "22",
          "23"
         ],
         "xaxis": "x",
         "y": [
          2942,
          2187,
          1812,
          1350,
          884,
          1460,
          3464,
          4335,
          3723,
          2298,
          1709,
          1542,
          1392,
          1236,
          1165,
          798,
          764,
          950,
          1913,
          4179,
          8426,
          7218,
          7107,
          5405
         ],
         "yaxis": "y"
        },
        {
         "alignmentgroup": "True",
         "hoverlabel": {
          "namelength": 0
         },
         "hovertemplate": "Primary_Type=SEX OFFENSE<br>Timezone=%{x}<br>Count=%{y}",
         "legendgroup": "Primary_Type=SEX OFFENSE",
         "marker": {
          "color": "#19d3f3"
         },
         "name": "Primary_Type=SEX OFFENSE",
         "offsetgroup": "Primary_Type=SEX OFFENSE",
         "orientation": "v",
         "showlegend": true,
         "textposition": "auto",
         "type": "bar",
         "x": [
          "0",
          "1",
          "2",
          "3",
          "4",
          "5",
          "6",
          "7",
          "8",
          "9",
          "10",
          "11",
          "12",
          "13",
          "14",
          "15",
          "16",
          "17",
          "18",
          "19",
          "20",
          "21",
          "22",
          "23"
         ],
         "xaxis": "x",
         "y": [
          2122,
          713,
          610,
          625,
          475,
          387,
          451,
          843,
          1246,
          1140,
          969,
          995,
          1345,
          1205,
          1291,
          1527,
          1411,
          1273,
          1203,
          1148,
          1119,
          1064,
          952,
          847
         ],
         "yaxis": "y"
        },
        {
         "alignmentgroup": "True",
         "hoverlabel": {
          "namelength": 0
         },
         "hovertemplate": "Primary_Type=PUBLIC PEACE VIOLATION<br>Timezone=%{x}<br>Count=%{y}",
         "legendgroup": "Primary_Type=PUBLIC PEACE VIOLATION",
         "marker": {
          "color": "#FF6692"
         },
         "name": "Primary_Type=PUBLIC PEACE VIOLATION",
         "offsetgroup": "Primary_Type=PUBLIC PEACE VIOLATION",
         "orientation": "v",
         "showlegend": true,
         "textposition": "auto",
         "type": "bar",
         "x": [
          "0",
          "1",
          "2",
          "3",
          "4",
          "5",
          "6",
          "7",
          "8",
          "9",
          "10",
          "11",
          "12",
          "13",
          "14",
          "15",
          "16",
          "17",
          "18",
          "19",
          "20",
          "21",
          "22",
          "23"
         ],
         "xaxis": "x",
         "y": [
          1793,
          1403,
          1126,
          738,
          486,
          330,
          343,
          567,
          1087,
          1493,
          1991,
          2459,
          2764,
          2759,
          2755,
          3293,
          2599,
          2393,
          2911,
          3455,
          3533,
          3403,
          2882,
          2345
         ],
         "yaxis": "y"
        },
        {
         "alignmentgroup": "True",
         "hoverlabel": {
          "namelength": 0
         },
         "hovertemplate": "Primary_Type=INTERFERENCE WITH PUBLIC OFFICER<br>Timezone=%{x}<br>Count=%{y}",
         "legendgroup": "Primary_Type=INTERFERENCE WITH PUBLIC OFFICER",
         "marker": {
          "color": "#B6E880"
         },
         "name": "Primary_Type=INTERFERENCE WITH PUBLIC OFFICER",
         "offsetgroup": "Primary_Type=INTERFERENCE WITH PUBLIC OFFICER",
         "orientation": "v",
         "showlegend": true,
         "textposition": "auto",
         "type": "bar",
         "x": [
          "0",
          "1",
          "2",
          "3",
          "4",
          "5",
          "6",
          "7",
          "8",
          "9",
          "10",
          "11",
          "12",
          "13",
          "14",
          "15",
          "16",
          "17",
          "18",
          "19",
          "20",
          "21",
          "22",
          "23"
         ],
         "xaxis": "x",
         "y": [
          958,
          803,
          636,
          389,
          273,
          97,
          91,
          127,
          213,
          345,
          552,
          728,
          703,
          621,
          587,
          742,
          766,
          914,
          1002,
          1259,
          1198,
          1142,
          1205,
          1057
         ],
         "yaxis": "y"
        },
        {
         "alignmentgroup": "True",
         "hoverlabel": {
          "namelength": 0
         },
         "hovertemplate": "Primary_Type=ARSON<br>Timezone=%{x}<br>Count=%{y}",
         "legendgroup": "Primary_Type=ARSON",
         "marker": {
          "color": "#FF97FF"
         },
         "name": "Primary_Type=ARSON",
         "offsetgroup": "Primary_Type=ARSON",
         "orientation": "v",
         "showlegend": true,
         "textposition": "auto",
         "type": "bar",
         "x": [
          "0",
          "1",
          "2",
          "3",
          "4",
          "5",
          "6",
          "7",
          "8",
          "9",
          "10",
          "11",
          "12",
          "13",
          "14",
          "15",
          "16",
          "17",
          "18",
          "19",
          "20",
          "21",
          "22",
          "23"
         ],
         "xaxis": "x",
         "y": [
          919,
          954,
          949,
          871,
          778,
          594,
          381,
          266,
          244,
          241,
          238,
          271,
          269,
          230,
          244,
          247,
          275,
          294,
          330,
          395,
          440,
          570,
          655,
          735
         ],
         "yaxis": "y"
        },
        {
         "alignmentgroup": "True",
         "hoverlabel": {
          "namelength": 0
         },
         "hovertemplate": "Primary_Type=LIQUOR LAW VIOLATION<br>Timezone=%{x}<br>Count=%{y}",
         "legendgroup": "Primary_Type=LIQUOR LAW VIOLATION",
         "marker": {
          "color": "#FECB52"
         },
         "name": "Primary_Type=LIQUOR LAW VIOLATION",
         "offsetgroup": "Primary_Type=LIQUOR LAW VIOLATION",
         "orientation": "v",
         "showlegend": true,
         "textposition": "auto",
         "type": "bar",
         "x": [
          "0",
          "1",
          "2",
          "3",
          "4",
          "5",
          "6",
          "7",
          "8",
          "9",
          "10",
          "11",
          "12",
          "13",
          "14",
          "15",
          "16",
          "17",
          "18",
          "19",
          "20",
          "21",
          "22",
          "23"
         ],
         "xaxis": "x",
         "y": [
          872,
          752,
          579,
          341,
          149,
          50,
          38,
          31,
          71,
          115,
          164,
          287,
          354,
          383,
          317,
          301,
          457,
          716,
          1224,
          1612,
          1484,
          1373,
          1362,
          1093
         ],
         "yaxis": "y"
        },
        {
         "alignmentgroup": "True",
         "hoverlabel": {
          "namelength": 0
         },
         "hovertemplate": "Primary_Type=HOMICIDE<br>Timezone=%{x}<br>Count=%{y}",
         "legendgroup": "Primary_Type=HOMICIDE",
         "marker": {
          "color": "#636efa"
         },
         "name": "Primary_Type=HOMICIDE",
         "offsetgroup": "Primary_Type=HOMICIDE",
         "orientation": "v",
         "showlegend": true,
         "textposition": "auto",
         "type": "bar",
         "x": [
          "0",
          "1",
          "2",
          "3",
          "4",
          "5",
          "6",
          "7",
          "8",
          "9",
          "10",
          "11",
          "12",
          "13",
          "14",
          "15",
          "16",
          "17",
          "18",
          "19",
          "20",
          "21",
          "22",
          "23"
         ],
         "xaxis": "x",
         "y": [
          673,
          648,
          601,
          480,
          404,
          332,
          286,
          208,
          212,
          270,
          242,
          267,
          315,
          312,
          360,
          350,
          412,
          416,
          461,
          408,
          517,
          558,
          562,
          609
         ],
         "yaxis": "y"
        },
        {
         "alignmentgroup": "True",
         "hoverlabel": {
          "namelength": 0
         },
         "hovertemplate": "Primary_Type=GAMBLING<br>Timezone=%{x}<br>Count=%{y}",
         "legendgroup": "Primary_Type=GAMBLING",
         "marker": {
          "color": "#EF553B"
         },
         "name": "Primary_Type=GAMBLING",
         "offsetgroup": "Primary_Type=GAMBLING",
         "orientation": "v",
         "showlegend": true,
         "textposition": "auto",
         "type": "bar",
         "x": [
          "0",
          "1",
          "2",
          "3",
          "4",
          "5",
          "6",
          "7",
          "8",
          "9",
          "10",
          "11",
          "12",
          "13",
          "14",
          "15",
          "16",
          "17",
          "18",
          "19",
          "20",
          "21",
          "22",
          "23"
         ],
         "xaxis": "x",
         "y": [
          336,
          166,
          92,
          51,
          28,
          14,
          33,
          49,
          89,
          133,
          370,
          613,
          862,
          892,
          991,
          808,
          756,
          841,
          1392,
          1851,
          1540,
          1110,
          864,
          564
         ],
         "yaxis": "y"
        },
        {
         "alignmentgroup": "True",
         "hoverlabel": {
          "namelength": 0
         },
         "hovertemplate": "Primary_Type=STALKING<br>Timezone=%{x}<br>Count=%{y}",
         "legendgroup": "Primary_Type=STALKING",
         "marker": {
          "color": "#00cc96"
         },
         "name": "Primary_Type=STALKING",
         "offsetgroup": "Primary_Type=STALKING",
         "orientation": "v",
         "showlegend": true,
         "textposition": "auto",
         "type": "bar",
         "x": [
          "0",
          "1",
          "2",
          "3",
          "4",
          "5",
          "6",
          "7",
          "8",
          "9",
          "10",
          "11",
          "12",
          "13",
          "14",
          "15",
          "16",
          "17",
          "18",
          "19",
          "20",
          "21",
          "22",
          "23"
         ],
         "xaxis": "x",
         "y": [
          206,
          99,
          57,
          51,
          45,
          48,
          82,
          154,
          189,
          199,
          173,
          163,
          188,
          155,
          175,
          227,
          198,
          171,
          180,
          138,
          163,
          173,
          164,
          130
         ],
         "yaxis": "y"
        },
        {
         "alignmentgroup": "True",
         "hoverlabel": {
          "namelength": 0
         },
         "hovertemplate": "Primary_Type=INTIMIDATION<br>Timezone=%{x}<br>Count=%{y}",
         "legendgroup": "Primary_Type=INTIMIDATION",
         "marker": {
          "color": "#ab63fa"
         },
         "name": "Primary_Type=INTIMIDATION",
         "offsetgroup": "Primary_Type=INTIMIDATION",
         "orientation": "v",
         "showlegend": true,
         "textposition": "auto",
         "type": "bar",
         "x": [
          "0",
          "1",
          "2",
          "3",
          "4",
          "5",
          "6",
          "7",
          "8",
          "9",
          "10",
          "11",
          "12",
          "13",
          "14",
          "15",
          "16",
          "17",
          "18",
          "19",
          "20",
          "21",
          "22",
          "23"
         ],
         "xaxis": "x",
         "y": [
          120,
          60,
          52,
          28,
          33,
          22,
          36,
          86,
          165,
          264,
          283,
          273,
          290,
          250,
          285,
          287,
          237,
          234,
          221,
          202,
          189,
          176,
          136,
          129
         ],
         "yaxis": "y"
        },
        {
         "alignmentgroup": "True",
         "hoverlabel": {
          "namelength": 0
         },
         "hovertemplate": "Primary_Type=KIDNAPPING<br>Timezone=%{x}<br>Count=%{y}",
         "legendgroup": "Primary_Type=KIDNAPPING",
         "marker": {
          "color": "#FFA15A"
         },
         "name": "Primary_Type=KIDNAPPING",
         "offsetgroup": "Primary_Type=KIDNAPPING",
         "orientation": "v",
         "showlegend": true,
         "textposition": "auto",
         "type": "bar",
         "x": [
          "0",
          "1",
          "2",
          "3",
          "4",
          "5",
          "6",
          "7",
          "8",
          "9",
          "10",
          "11",
          "12",
          "13",
          "14",
          "15",
          "16",
          "17",
          "18",
          "19",
          "20",
          "21",
          "22",
          "23"
         ],
         "xaxis": "x",
         "y": [
          117,
          98,
          78,
          69,
          64,
          43,
          104,
          294,
          520,
          394,
          360,
          249,
          323,
          262,
          440,
          587,
          506,
          506,
          532,
          426,
          277,
          239,
          164,
          113
         ],
         "yaxis": "y"
        },
        {
         "alignmentgroup": "True",
         "hoverlabel": {
          "namelength": 0
         },
         "hovertemplate": "Primary_Type=OBSCENITY<br>Timezone=%{x}<br>Count=%{y}",
         "legendgroup": "Primary_Type=OBSCENITY",
         "marker": {
          "color": "#19d3f3"
         },
         "name": "Primary_Type=OBSCENITY",
         "offsetgroup": "Primary_Type=OBSCENITY",
         "orientation": "v",
         "showlegend": true,
         "textposition": "auto",
         "type": "bar",
         "x": [
          "0",
          "1",
          "2",
          "3",
          "4",
          "5",
          "6",
          "7",
          "8",
          "9",
          "10",
          "11",
          "12",
          "13",
          "14",
          "15",
          "16",
          "17",
          "18",
          "19",
          "20",
          "21",
          "22",
          "23"
         ],
         "xaxis": "x",
         "y": [
          58,
          10,
          7,
          11,
          6,
          7,
          14,
          11,
          35,
          34,
          30,
          25,
          48,
          35,
          33,
          47,
          31,
          26,
          24,
          23,
          33,
          20,
          19,
          20
         ],
         "yaxis": "y"
        },
        {
         "alignmentgroup": "True",
         "hoverlabel": {
          "namelength": 0
         },
         "hovertemplate": "Primary_Type=CONCEALED CARRY LICENSE VIOLATION<br>Timezone=%{x}<br>Count=%{y}",
         "legendgroup": "Primary_Type=CONCEALED CARRY LICENSE VIOLATION",
         "marker": {
          "color": "#FF6692"
         },
         "name": "Primary_Type=CONCEALED CARRY LICENSE VIOLATION",
         "offsetgroup": "Primary_Type=CONCEALED CARRY LICENSE VIOLATION",
         "orientation": "v",
         "showlegend": true,
         "textposition": "auto",
         "type": "bar",
         "x": [
          "0",
          "1",
          "2",
          "3",
          "4",
          "5",
          "6",
          "7",
          "8",
          "9",
          "10",
          "11",
          "12",
          "13",
          "14",
          "15",
          "16",
          "17",
          "18",
          "19",
          "20",
          "21",
          "22",
          "23"
         ],
         "xaxis": "x",
         "y": [
          19,
          26,
          19,
          14,
          8,
          13,
          17,
          24,
          12,
          15,
          10,
          12,
          21,
          20,
          14,
          8,
          17,
          19,
          29,
          31,
          25,
          25,
          42,
          26
         ],
         "yaxis": "y"
        },
        {
         "alignmentgroup": "True",
         "hoverlabel": {
          "namelength": 0
         },
         "hovertemplate": "Primary_Type=HUMAN TRAFFICKING<br>Timezone=%{x}<br>Count=%{y}",
         "legendgroup": "Primary_Type=HUMAN TRAFFICKING",
         "marker": {
          "color": "#B6E880"
         },
         "name": "Primary_Type=HUMAN TRAFFICKING",
         "offsetgroup": "Primary_Type=HUMAN TRAFFICKING",
         "orientation": "v",
         "showlegend": true,
         "textposition": "auto",
         "type": "bar",
         "x": [
          "0",
          "1",
          "3",
          "5",
          "6",
          "7",
          "8",
          "9",
          "10",
          "11",
          "12",
          "13",
          "14",
          "15",
          "16",
          "17",
          "18",
          "19",
          "20",
          "21",
          "22"
         ],
         "xaxis": "x",
         "y": [
          12,
          1,
          1,
          1,
          1,
          1,
          2,
          6,
          2,
          3,
          3,
          6,
          3,
          3,
          3,
          1,
          2,
          3,
          1,
          1,
          1
         ],
         "yaxis": "y"
        },
        {
         "alignmentgroup": "True",
         "hoverlabel": {
          "namelength": 0
         },
         "hovertemplate": "Primary_Type=NON-CRIMINAL<br>Timezone=%{x}<br>Count=%{y}",
         "legendgroup": "Primary_Type=NON-CRIMINAL",
         "marker": {
          "color": "#FF97FF"
         },
         "name": "Primary_Type=NON-CRIMINAL",
         "offsetgroup": "Primary_Type=NON-CRIMINAL",
         "orientation": "v",
         "showlegend": true,
         "textposition": "auto",
         "type": "bar",
         "x": [
          "0",
          "1",
          "2",
          "3",
          "4",
          "6",
          "7",
          "8",
          "9",
          "10",
          "11",
          "12",
          "13",
          "14",
          "15",
          "16",
          "17",
          "18",
          "19",
          "20",
          "21",
          "22",
          "23"
         ],
         "xaxis": "x",
         "y": [
          6,
          1,
          2,
          2,
          1,
          4,
          5,
          9,
          14,
          8,
          11,
          18,
          4,
          10,
          7,
          11,
          11,
          6,
          7,
          4,
          6,
          10,
          4
         ],
         "yaxis": "y"
        },
        {
         "alignmentgroup": "True",
         "hoverlabel": {
          "namelength": 0
         },
         "hovertemplate": "Primary_Type=PUBLIC INDECENCY<br>Timezone=%{x}<br>Count=%{y}",
         "legendgroup": "Primary_Type=PUBLIC INDECENCY",
         "marker": {
          "color": "#FECB52"
         },
         "name": "Primary_Type=PUBLIC INDECENCY",
         "offsetgroup": "Primary_Type=PUBLIC INDECENCY",
         "orientation": "v",
         "showlegend": true,
         "textposition": "auto",
         "type": "bar",
         "x": [
          "0",
          "1",
          "2",
          "4",
          "5",
          "6",
          "7",
          "8",
          "9",
          "10",
          "11",
          "12",
          "13",
          "14",
          "15",
          "16",
          "17",
          "18",
          "19",
          "20",
          "21",
          "22",
          "23"
         ],
         "xaxis": "x",
         "y": [
          5,
          14,
          3,
          3,
          1,
          2,
          8,
          6,
          11,
          10,
          9,
          13,
          7,
          7,
          7,
          14,
          8,
          8,
          10,
          4,
          6,
          9,
          6
         ],
         "yaxis": "y"
        },
        {
         "alignmentgroup": "True",
         "hoverlabel": {
          "namelength": 0
         },
         "hovertemplate": "Primary_Type=OTHER NARCOTIC VIOLATION<br>Timezone=%{x}<br>Count=%{y}",
         "legendgroup": "Primary_Type=OTHER NARCOTIC VIOLATION",
         "marker": {
          "color": "#636efa"
         },
         "name": "Primary_Type=OTHER NARCOTIC VIOLATION",
         "offsetgroup": "Primary_Type=OTHER NARCOTIC VIOLATION",
         "orientation": "v",
         "showlegend": true,
         "textposition": "auto",
         "type": "bar",
         "x": [
          "0",
          "1",
          "2",
          "3",
          "4",
          "7",
          "8",
          "9",
          "10",
          "11",
          "12",
          "13",
          "14",
          "15",
          "16",
          "17",
          "18",
          "19",
          "20",
          "21",
          "22",
          "23"
         ],
         "xaxis": "x",
         "y": [
          4,
          5,
          2,
          1,
          1,
          1,
          1,
          6,
          8,
          7,
          13,
          14,
          6,
          4,
          8,
          8,
          7,
          7,
          10,
          5,
          3,
          6
         ],
         "yaxis": "y"
        },
        {
         "alignmentgroup": "True",
         "hoverlabel": {
          "namelength": 0
         },
         "hovertemplate": "Primary_Type=RITUALISM<br>Timezone=%{x}<br>Count=%{y}",
         "legendgroup": "Primary_Type=RITUALISM",
         "marker": {
          "color": "#EF553B"
         },
         "name": "Primary_Type=RITUALISM",
         "offsetgroup": "Primary_Type=RITUALISM",
         "orientation": "v",
         "showlegend": true,
         "textposition": "auto",
         "type": "bar",
         "x": [
          "0",
          "2",
          "5",
          "11",
          "12",
          "13",
          "14",
          "15",
          "16",
          "17",
          "18",
          "21",
          "23"
         ],
         "xaxis": "x",
         "y": [
          2,
          2,
          1,
          1,
          2,
          1,
          3,
          1,
          3,
          1,
          2,
          1,
          2
         ],
         "yaxis": "y"
        },
        {
         "alignmentgroup": "True",
         "hoverlabel": {
          "namelength": 0
         },
         "hovertemplate": "Primary_Type=NON - CRIMINAL<br>Timezone=%{x}<br>Count=%{y}",
         "legendgroup": "Primary_Type=NON - CRIMINAL",
         "marker": {
          "color": "#00cc96"
         },
         "name": "Primary_Type=NON - CRIMINAL",
         "offsetgroup": "Primary_Type=NON - CRIMINAL",
         "orientation": "v",
         "showlegend": true,
         "textposition": "auto",
         "type": "bar",
         "x": [
          "0",
          "7",
          "8",
          "9",
          "10",
          "11",
          "13",
          "14",
          "15",
          "16",
          "17",
          "18",
          "19",
          "20",
          "22"
         ],
         "xaxis": "x",
         "y": [
          1,
          4,
          1,
          5,
          9,
          1,
          2,
          1,
          5,
          1,
          1,
          2,
          1,
          2,
          2
         ],
         "yaxis": "y"
        },
        {
         "alignmentgroup": "True",
         "hoverlabel": {
          "namelength": 0
         },
         "hovertemplate": "Primary_Type=NON-CRIMINAL (SUBJECT SPECIFIED)<br>Timezone=%{x}<br>Count=%{y}",
         "legendgroup": "Primary_Type=NON-CRIMINAL (SUBJECT SPECIFIED)",
         "marker": {
          "color": "#ab63fa"
         },
         "name": "Primary_Type=NON-CRIMINAL (SUBJECT SPECIFIED)",
         "offsetgroup": "Primary_Type=NON-CRIMINAL (SUBJECT SPECIFIED)",
         "orientation": "v",
         "showlegend": true,
         "textposition": "auto",
         "type": "bar",
         "x": [
          "1",
          "11",
          "13",
          "17",
          "18",
          "20",
          "21",
          "23"
         ],
         "xaxis": "x",
         "y": [
          1,
          1,
          1,
          2,
          1,
          1,
          1,
          1
         ],
         "yaxis": "y"
        },
        {
         "alignmentgroup": "True",
         "hoverlabel": {
          "namelength": 0
         },
         "hovertemplate": "Primary_Type=DOMESTIC VIOLENCE<br>Timezone=%{x}<br>Count=%{y}",
         "legendgroup": "Primary_Type=DOMESTIC VIOLENCE",
         "marker": {
          "color": "#FFA15A"
         },
         "name": "Primary_Type=DOMESTIC VIOLENCE",
         "offsetgroup": "Primary_Type=DOMESTIC VIOLENCE",
         "orientation": "v",
         "showlegend": true,
         "textposition": "auto",
         "type": "bar",
         "x": [
          "2"
         ],
         "xaxis": "x",
         "y": [
          1
         ],
         "yaxis": "y"
        }
       ],
       "layout": {
        "barmode": "relative",
        "height": 600,
        "legend": {
         "tracegroupgap": 0
        },
        "margin": {
         "t": 60
        },
        "template": {
         "data": {
          "bar": [
           {
            "error_x": {
             "color": "#2a3f5f"
            },
            "error_y": {
             "color": "#2a3f5f"
            },
            "marker": {
             "line": {
              "color": "#E5ECF6",
              "width": 0.5
             }
            },
            "type": "bar"
           }
          ],
          "barpolar": [
           {
            "marker": {
             "line": {
              "color": "#E5ECF6",
              "width": 0.5
             }
            },
            "type": "barpolar"
           }
          ],
          "carpet": [
           {
            "aaxis": {
             "endlinecolor": "#2a3f5f",
             "gridcolor": "white",
             "linecolor": "white",
             "minorgridcolor": "white",
             "startlinecolor": "#2a3f5f"
            },
            "baxis": {
             "endlinecolor": "#2a3f5f",
             "gridcolor": "white",
             "linecolor": "white",
             "minorgridcolor": "white",
             "startlinecolor": "#2a3f5f"
            },
            "type": "carpet"
           }
          ],
          "choropleth": [
           {
            "colorbar": {
             "outlinewidth": 0,
             "ticks": ""
            },
            "type": "choropleth"
           }
          ],
          "contour": [
           {
            "colorbar": {
             "outlinewidth": 0,
             "ticks": ""
            },
            "colorscale": [
             [
              0,
              "#0d0887"
             ],
             [
              0.1111111111111111,
              "#46039f"
             ],
             [
              0.2222222222222222,
              "#7201a8"
             ],
             [
              0.3333333333333333,
              "#9c179e"
             ],
             [
              0.4444444444444444,
              "#bd3786"
             ],
             [
              0.5555555555555556,
              "#d8576b"
             ],
             [
              0.6666666666666666,
              "#ed7953"
             ],
             [
              0.7777777777777778,
              "#fb9f3a"
             ],
             [
              0.8888888888888888,
              "#fdca26"
             ],
             [
              1,
              "#f0f921"
             ]
            ],
            "type": "contour"
           }
          ],
          "contourcarpet": [
           {
            "colorbar": {
             "outlinewidth": 0,
             "ticks": ""
            },
            "type": "contourcarpet"
           }
          ],
          "heatmap": [
           {
            "colorbar": {
             "outlinewidth": 0,
             "ticks": ""
            },
            "colorscale": [
             [
              0,
              "#0d0887"
             ],
             [
              0.1111111111111111,
              "#46039f"
             ],
             [
              0.2222222222222222,
              "#7201a8"
             ],
             [
              0.3333333333333333,
              "#9c179e"
             ],
             [
              0.4444444444444444,
              "#bd3786"
             ],
             [
              0.5555555555555556,
              "#d8576b"
             ],
             [
              0.6666666666666666,
              "#ed7953"
             ],
             [
              0.7777777777777778,
              "#fb9f3a"
             ],
             [
              0.8888888888888888,
              "#fdca26"
             ],
             [
              1,
              "#f0f921"
             ]
            ],
            "type": "heatmap"
           }
          ],
          "heatmapgl": [
           {
            "colorbar": {
             "outlinewidth": 0,
             "ticks": ""
            },
            "colorscale": [
             [
              0,
              "#0d0887"
             ],
             [
              0.1111111111111111,
              "#46039f"
             ],
             [
              0.2222222222222222,
              "#7201a8"
             ],
             [
              0.3333333333333333,
              "#9c179e"
             ],
             [
              0.4444444444444444,
              "#bd3786"
             ],
             [
              0.5555555555555556,
              "#d8576b"
             ],
             [
              0.6666666666666666,
              "#ed7953"
             ],
             [
              0.7777777777777778,
              "#fb9f3a"
             ],
             [
              0.8888888888888888,
              "#fdca26"
             ],
             [
              1,
              "#f0f921"
             ]
            ],
            "type": "heatmapgl"
           }
          ],
          "histogram": [
           {
            "marker": {
             "colorbar": {
              "outlinewidth": 0,
              "ticks": ""
             }
            },
            "type": "histogram"
           }
          ],
          "histogram2d": [
           {
            "colorbar": {
             "outlinewidth": 0,
             "ticks": ""
            },
            "colorscale": [
             [
              0,
              "#0d0887"
             ],
             [
              0.1111111111111111,
              "#46039f"
             ],
             [
              0.2222222222222222,
              "#7201a8"
             ],
             [
              0.3333333333333333,
              "#9c179e"
             ],
             [
              0.4444444444444444,
              "#bd3786"
             ],
             [
              0.5555555555555556,
              "#d8576b"
             ],
             [
              0.6666666666666666,
              "#ed7953"
             ],
             [
              0.7777777777777778,
              "#fb9f3a"
             ],
             [
              0.8888888888888888,
              "#fdca26"
             ],
             [
              1,
              "#f0f921"
             ]
            ],
            "type": "histogram2d"
           }
          ],
          "histogram2dcontour": [
           {
            "colorbar": {
             "outlinewidth": 0,
             "ticks": ""
            },
            "colorscale": [
             [
              0,
              "#0d0887"
             ],
             [
              0.1111111111111111,
              "#46039f"
             ],
             [
              0.2222222222222222,
              "#7201a8"
             ],
             [
              0.3333333333333333,
              "#9c179e"
             ],
             [
              0.4444444444444444,
              "#bd3786"
             ],
             [
              0.5555555555555556,
              "#d8576b"
             ],
             [
              0.6666666666666666,
              "#ed7953"
             ],
             [
              0.7777777777777778,
              "#fb9f3a"
             ],
             [
              0.8888888888888888,
              "#fdca26"
             ],
             [
              1,
              "#f0f921"
             ]
            ],
            "type": "histogram2dcontour"
           }
          ],
          "mesh3d": [
           {
            "colorbar": {
             "outlinewidth": 0,
             "ticks": ""
            },
            "type": "mesh3d"
           }
          ],
          "parcoords": [
           {
            "line": {
             "colorbar": {
              "outlinewidth": 0,
              "ticks": ""
             }
            },
            "type": "parcoords"
           }
          ],
          "pie": [
           {
            "automargin": true,
            "type": "pie"
           }
          ],
          "scatter": [
           {
            "marker": {
             "colorbar": {
              "outlinewidth": 0,
              "ticks": ""
             }
            },
            "type": "scatter"
           }
          ],
          "scatter3d": [
           {
            "line": {
             "colorbar": {
              "outlinewidth": 0,
              "ticks": ""
             }
            },
            "marker": {
             "colorbar": {
              "outlinewidth": 0,
              "ticks": ""
             }
            },
            "type": "scatter3d"
           }
          ],
          "scattercarpet": [
           {
            "marker": {
             "colorbar": {
              "outlinewidth": 0,
              "ticks": ""
             }
            },
            "type": "scattercarpet"
           }
          ],
          "scattergeo": [
           {
            "marker": {
             "colorbar": {
              "outlinewidth": 0,
              "ticks": ""
             }
            },
            "type": "scattergeo"
           }
          ],
          "scattergl": [
           {
            "marker": {
             "colorbar": {
              "outlinewidth": 0,
              "ticks": ""
             }
            },
            "type": "scattergl"
           }
          ],
          "scattermapbox": [
           {
            "marker": {
             "colorbar": {
              "outlinewidth": 0,
              "ticks": ""
             }
            },
            "type": "scattermapbox"
           }
          ],
          "scatterpolar": [
           {
            "marker": {
             "colorbar": {
              "outlinewidth": 0,
              "ticks": ""
             }
            },
            "type": "scatterpolar"
           }
          ],
          "scatterpolargl": [
           {
            "marker": {
             "colorbar": {
              "outlinewidth": 0,
              "ticks": ""
             }
            },
            "type": "scatterpolargl"
           }
          ],
          "scatterternary": [
           {
            "marker": {
             "colorbar": {
              "outlinewidth": 0,
              "ticks": ""
             }
            },
            "type": "scatterternary"
           }
          ],
          "surface": [
           {
            "colorbar": {
             "outlinewidth": 0,
             "ticks": ""
            },
            "colorscale": [
             [
              0,
              "#0d0887"
             ],
             [
              0.1111111111111111,
              "#46039f"
             ],
             [
              0.2222222222222222,
              "#7201a8"
             ],
             [
              0.3333333333333333,
              "#9c179e"
             ],
             [
              0.4444444444444444,
              "#bd3786"
             ],
             [
              0.5555555555555556,
              "#d8576b"
             ],
             [
              0.6666666666666666,
              "#ed7953"
             ],
             [
              0.7777777777777778,
              "#fb9f3a"
             ],
             [
              0.8888888888888888,
              "#fdca26"
             ],
             [
              1,
              "#f0f921"
             ]
            ],
            "type": "surface"
           }
          ],
          "table": [
           {
            "cells": {
             "fill": {
              "color": "#EBF0F8"
             },
             "line": {
              "color": "white"
             }
            },
            "header": {
             "fill": {
              "color": "#C8D4E3"
             },
             "line": {
              "color": "white"
             }
            },
            "type": "table"
           }
          ]
         },
         "layout": {
          "annotationdefaults": {
           "arrowcolor": "#2a3f5f",
           "arrowhead": 0,
           "arrowwidth": 1
          },
          "coloraxis": {
           "colorbar": {
            "outlinewidth": 0,
            "ticks": ""
           }
          },
          "colorscale": {
           "diverging": [
            [
             0,
             "#8e0152"
            ],
            [
             0.1,
             "#c51b7d"
            ],
            [
             0.2,
             "#de77ae"
            ],
            [
             0.3,
             "#f1b6da"
            ],
            [
             0.4,
             "#fde0ef"
            ],
            [
             0.5,
             "#f7f7f7"
            ],
            [
             0.6,
             "#e6f5d0"
            ],
            [
             0.7,
             "#b8e186"
            ],
            [
             0.8,
             "#7fbc41"
            ],
            [
             0.9,
             "#4d9221"
            ],
            [
             1,
             "#276419"
            ]
           ],
           "sequential": [
            [
             0,
             "#0d0887"
            ],
            [
             0.1111111111111111,
             "#46039f"
            ],
            [
             0.2222222222222222,
             "#7201a8"
            ],
            [
             0.3333333333333333,
             "#9c179e"
            ],
            [
             0.4444444444444444,
             "#bd3786"
            ],
            [
             0.5555555555555556,
             "#d8576b"
            ],
            [
             0.6666666666666666,
             "#ed7953"
            ],
            [
             0.7777777777777778,
             "#fb9f3a"
            ],
            [
             0.8888888888888888,
             "#fdca26"
            ],
            [
             1,
             "#f0f921"
            ]
           ],
           "sequentialminus": [
            [
             0,
             "#0d0887"
            ],
            [
             0.1111111111111111,
             "#46039f"
            ],
            [
             0.2222222222222222,
             "#7201a8"
            ],
            [
             0.3333333333333333,
             "#9c179e"
            ],
            [
             0.4444444444444444,
             "#bd3786"
            ],
            [
             0.5555555555555556,
             "#d8576b"
            ],
            [
             0.6666666666666666,
             "#ed7953"
            ],
            [
             0.7777777777777778,
             "#fb9f3a"
            ],
            [
             0.8888888888888888,
             "#fdca26"
            ],
            [
             1,
             "#f0f921"
            ]
           ]
          },
          "colorway": [
           "#636efa",
           "#EF553B",
           "#00cc96",
           "#ab63fa",
           "#FFA15A",
           "#19d3f3",
           "#FF6692",
           "#B6E880",
           "#FF97FF",
           "#FECB52"
          ],
          "font": {
           "color": "#2a3f5f"
          },
          "geo": {
           "bgcolor": "white",
           "lakecolor": "white",
           "landcolor": "#E5ECF6",
           "showlakes": true,
           "showland": true,
           "subunitcolor": "white"
          },
          "hoverlabel": {
           "align": "left"
          },
          "hovermode": "closest",
          "mapbox": {
           "style": "light"
          },
          "paper_bgcolor": "white",
          "plot_bgcolor": "#E5ECF6",
          "polar": {
           "angularaxis": {
            "gridcolor": "white",
            "linecolor": "white",
            "ticks": ""
           },
           "bgcolor": "#E5ECF6",
           "radialaxis": {
            "gridcolor": "white",
            "linecolor": "white",
            "ticks": ""
           }
          },
          "scene": {
           "xaxis": {
            "backgroundcolor": "#E5ECF6",
            "gridcolor": "white",
            "gridwidth": 2,
            "linecolor": "white",
            "showbackground": true,
            "ticks": "",
            "zerolinecolor": "white"
           },
           "yaxis": {
            "backgroundcolor": "#E5ECF6",
            "gridcolor": "white",
            "gridwidth": 2,
            "linecolor": "white",
            "showbackground": true,
            "ticks": "",
            "zerolinecolor": "white"
           },
           "zaxis": {
            "backgroundcolor": "#E5ECF6",
            "gridcolor": "white",
            "gridwidth": 2,
            "linecolor": "white",
            "showbackground": true,
            "ticks": "",
            "zerolinecolor": "white"
           }
          },
          "shapedefaults": {
           "line": {
            "color": "#2a3f5f"
           }
          },
          "ternary": {
           "aaxis": {
            "gridcolor": "white",
            "linecolor": "white",
            "ticks": ""
           },
           "baxis": {
            "gridcolor": "white",
            "linecolor": "white",
            "ticks": ""
           },
           "bgcolor": "#E5ECF6",
           "caxis": {
            "gridcolor": "white",
            "linecolor": "white",
            "ticks": ""
           }
          },
          "title": {
           "x": 0.05
          },
          "xaxis": {
           "automargin": true,
           "gridcolor": "white",
           "linecolor": "white",
           "ticks": "",
           "title": {
            "standoff": 15
           },
           "zerolinecolor": "white",
           "zerolinewidth": 2
          },
          "yaxis": {
           "automargin": true,
           "gridcolor": "white",
           "linecolor": "white",
           "ticks": "",
           "title": {
            "standoff": 15
           },
           "zerolinecolor": "white",
           "zerolinewidth": 2
          }
         }
        },
        "xaxis": {
         "anchor": "y",
         "domain": [
          0,
          1
         ],
         "title": {
          "text": "Timezone"
         }
        },
        "yaxis": {
         "anchor": "x",
         "domain": [
          0,
          1
         ],
         "title": {
          "text": "Count"
         }
        }
       }
      },
      "text/html": [
       "<div>\n",
       "        \n",
       "        \n",
       "            <div id=\"aa297389-d2f2-47d3-9e31-ddc9ed70da75\" class=\"plotly-graph-div\" style=\"height:600px; width:100%;\"></div>\n",
       "            <script type=\"text/javascript\">\n",
       "                require([\"plotly\"], function(Plotly) {\n",
       "                    window.PLOTLYENV=window.PLOTLYENV || {};\n",
       "                    \n",
       "                if (document.getElementById(\"aa297389-d2f2-47d3-9e31-ddc9ed70da75\")) {\n",
       "                    Plotly.newPlot(\n",
       "                        'aa297389-d2f2-47d3-9e31-ddc9ed70da75',\n",
       "                        [{\"alignmentgroup\": \"True\", \"hoverlabel\": {\"namelength\": 0}, \"hovertemplate\": \"Primary_Type=THEFT<br>Timezone=%{x}<br>Count=%{y}\", \"legendgroup\": \"Primary_Type=THEFT\", \"marker\": {\"color\": \"#636efa\"}, \"name\": \"Primary_Type=THEFT\", \"offsetgroup\": \"Primary_Type=THEFT\", \"orientation\": \"v\", \"showlegend\": true, \"textposition\": \"auto\", \"type\": \"bar\", \"x\": [\"0\", \"1\", \"2\", \"3\", \"4\", \"5\", \"6\", \"7\", \"8\", \"9\", \"10\", \"11\", \"12\", \"13\", \"14\", \"15\", \"16\", \"17\", \"18\", \"19\", \"20\", \"21\", \"22\", \"23\"], \"xaxis\": \"x\", \"y\": [79911, 33129, 26554, 21169, 16049, 15759, 22473, 36173, 55158, 75031, 67480, 67413, 101678, 81230, 85739, 91277, 86679, 88659, 87613, 76725, 68738, 61136, 61787, 47923], \"yaxis\": \"y\"}, {\"alignmentgroup\": \"True\", \"hoverlabel\": {\"namelength\": 0}, \"hovertemplate\": \"Primary_Type=BATTERY<br>Timezone=%{x}<br>Count=%{y}\", \"legendgroup\": \"Primary_Type=BATTERY\", \"marker\": {\"color\": \"#EF553B\"}, \"name\": \"Primary_Type=BATTERY\", \"offsetgroup\": \"Primary_Type=BATTERY\", \"orientation\": \"v\", \"showlegend\": true, \"textposition\": \"auto\", \"type\": \"bar\", \"x\": [\"0\", \"1\", \"2\", \"3\", \"4\", \"5\", \"6\", \"7\", \"8\", \"9\", \"10\", \"11\", \"12\", \"13\", \"14\", \"15\", \"16\", \"17\", \"18\", \"19\", \"20\", \"21\", \"22\", \"23\"], \"xaxis\": \"x\", \"y\": [63073, 60704, 54154, 43920, 30845, 20975, 17805, 22376, 33848, 39656, 44708, 50628, 55459, 54971, 64028, 69390, 63206, 62642, 65660, 67911, 69824, 72269, 72793, 68537], \"yaxis\": \"y\"}, {\"alignmentgroup\": \"True\", \"hoverlabel\": {\"namelength\": 0}, \"hovertemplate\": \"Primary_Type=CRIMINAL DAMAGE<br>Timezone=%{x}<br>Count=%{y}\", \"legendgroup\": \"Primary_Type=CRIMINAL DAMAGE\", \"marker\": {\"color\": \"#00cc96\"}, \"name\": \"Primary_Type=CRIMINAL DAMAGE\", \"offsetgroup\": \"Primary_Type=CRIMINAL DAMAGE\", \"orientation\": \"v\", \"showlegend\": true, \"textposition\": \"auto\", \"type\": \"bar\", \"x\": [\"0\", \"1\", \"2\", \"3\", \"4\", \"5\", \"6\", \"7\", \"8\", \"9\", \"10\", \"11\", \"12\", \"13\", \"14\", \"15\", \"16\", \"17\", \"18\", \"19\", \"20\", \"21\", \"22\", \"23\"], \"xaxis\": \"x\", \"y\": [57637, 33785, 28987, 24076, 18756, 15025, 15448, 20394, 25820, 26590, 24693, 23115, 29271, 24853, 28432, 33019, 35132, 40528, 45329, 44934, 47665, 50160, 54095, 42933], \"yaxis\": \"y\"}, {\"alignmentgroup\": \"True\", \"hoverlabel\": {\"namelength\": 0}, \"hovertemplate\": \"Primary_Type=DECEPTIVE PRACTICE<br>Timezone=%{x}<br>Count=%{y}\", \"legendgroup\": \"Primary_Type=DECEPTIVE PRACTICE\", \"marker\": {\"color\": \"#ab63fa\"}, \"name\": \"Primary_Type=DECEPTIVE PRACTICE\", \"offsetgroup\": \"Primary_Type=DECEPTIVE PRACTICE\", \"orientation\": \"v\", \"showlegend\": true, \"textposition\": \"auto\", \"type\": \"bar\", \"x\": [\"0\", \"1\", \"2\", \"3\", \"4\", \"5\", \"6\", \"7\", \"8\", \"9\", \"10\", \"11\", \"12\", \"13\", \"14\", \"15\", \"16\", \"17\", \"18\", \"19\", \"20\", \"21\", \"22\", \"23\"], \"xaxis\": \"x\", \"y\": [28481, 3805, 3420, 2973, 2258, 1744, 2194, 3947, 11421, 28706, 16862, 12636, 31442, 14995, 15319, 15882, 14274, 13496, 11314, 9997, 8143, 5851, 4856, 4244], \"yaxis\": \"y\"}, {\"alignmentgroup\": \"True\", \"hoverlabel\": {\"namelength\": 0}, \"hovertemplate\": \"Primary_Type=NARCOTICS<br>Timezone=%{x}<br>Count=%{y}\", \"legendgroup\": \"Primary_Type=NARCOTICS\", \"marker\": {\"color\": \"#FFA15A\"}, \"name\": \"Primary_Type=NARCOTICS\", \"offsetgroup\": \"Primary_Type=NARCOTICS\", \"orientation\": \"v\", \"showlegend\": true, \"textposition\": \"auto\", \"type\": \"bar\", \"x\": [\"0\", \"1\", \"2\", \"3\", \"4\", \"5\", \"6\", \"7\", \"8\", \"9\", \"10\", \"11\", \"12\", \"13\", \"14\", \"15\", \"16\", \"17\", \"18\", \"19\", \"20\", \"21\", \"22\", \"23\"], \"xaxis\": \"x\", \"y\": [24427, 14520, 9200, 6252, 3868, 1881, 3775, 4927, 10280, 15873, 30288, 46497, 46956, 46102, 42527, 36330, 31363, 28128, 38810, 59505, 59620, 58831, 52988, 40469], \"yaxis\": \"y\"}, {\"alignmentgroup\": \"True\", \"hoverlabel\": {\"namelength\": 0}, \"hovertemplate\": \"Primary_Type=OTHER OFFENSE<br>Timezone=%{x}<br>Count=%{y}\", \"legendgroup\": \"Primary_Type=OTHER OFFENSE\", \"marker\": {\"color\": \"#19d3f3\"}, \"name\": \"Primary_Type=OTHER OFFENSE\", \"offsetgroup\": \"Primary_Type=OTHER OFFENSE\", \"orientation\": \"v\", \"showlegend\": true, \"textposition\": \"auto\", \"type\": \"bar\", \"x\": [\"0\", \"1\", \"2\", \"3\", \"4\", \"5\", \"6\", \"7\", \"8\", \"9\", \"10\", \"11\", \"12\", \"13\", \"14\", \"15\", \"16\", \"17\", \"18\", \"19\", \"20\", \"21\", \"22\", \"23\"], \"xaxis\": \"x\", \"y\": [23979, 10767, 8663, 6552, 4844, 4618, 6577, 10740, 18202, 27055, 24565, 21869, 29831, 20138, 20495, 22049, 21284, 21810, 22767, 23145, 22631, 21549, 19638, 16183], \"yaxis\": \"y\"}, {\"alignmentgroup\": \"True\", \"hoverlabel\": {\"namelength\": 0}, \"hovertemplate\": \"Primary_Type=MOTOR VEHICLE THEFT<br>Timezone=%{x}<br>Count=%{y}\", \"legendgroup\": \"Primary_Type=MOTOR VEHICLE THEFT\", \"marker\": {\"color\": \"#FF6692\"}, \"name\": \"Primary_Type=MOTOR VEHICLE THEFT\", \"offsetgroup\": \"Primary_Type=MOTOR VEHICLE THEFT\", \"orientation\": \"v\", \"showlegend\": true, \"textposition\": \"auto\", \"type\": \"bar\", \"x\": [\"0\", \"1\", \"2\", \"3\", \"4\", \"5\", \"6\", \"7\", \"8\", \"9\", \"10\", \"11\", \"12\", \"13\", \"14\", \"15\", \"16\", \"17\", \"18\", \"19\", \"20\", \"21\", \"22\", \"23\"], \"xaxis\": \"x\", \"y\": [20561, 11063, 8997, 7222, 5869, 6418, 8637, 11047, 12673, 13023, 10826, 9212, 13292, 9542, 10747, 12491, 13111, 14861, 17868, 17930, 19966, 21099, 24225, 18384], \"yaxis\": \"y\"}, {\"alignmentgroup\": \"True\", \"hoverlabel\": {\"namelength\": 0}, \"hovertemplate\": \"Primary_Type=BURGLARY<br>Timezone=%{x}<br>Count=%{y}\", \"legendgroup\": \"Primary_Type=BURGLARY\", \"marker\": {\"color\": \"#B6E880\"}, \"name\": \"Primary_Type=BURGLARY\", \"offsetgroup\": \"Primary_Type=BURGLARY\", \"orientation\": \"v\", \"showlegend\": true, \"textposition\": \"auto\", \"type\": \"bar\", \"x\": [\"0\", \"1\", \"2\", \"3\", \"4\", \"5\", \"6\", \"7\", \"8\", \"9\", \"10\", \"11\", \"12\", \"13\", \"14\", \"15\", \"16\", \"17\", \"18\", \"19\", \"20\", \"21\", \"22\", \"23\"], \"xaxis\": \"x\", \"y\": [17464, 9039, 8410, 7941, 7604, 9000, 12956, 21058, 26375, 23606, 21220, 19387, 23130, 18559, 18997, 19283, 18392, 19445, 19392, 16553, 15170, 14703, 15466, 11738], \"yaxis\": \"y\"}, {\"alignmentgroup\": \"True\", \"hoverlabel\": {\"namelength\": 0}, \"hovertemplate\": \"Primary_Type=ASSAULT<br>Timezone=%{x}<br>Count=%{y}\", \"legendgroup\": \"Primary_Type=ASSAULT\", \"marker\": {\"color\": \"#FF97FF\"}, \"name\": \"Primary_Type=ASSAULT\", \"offsetgroup\": \"Primary_Type=ASSAULT\", \"orientation\": \"v\", \"showlegend\": true, \"textposition\": \"auto\", \"type\": \"bar\", \"x\": [\"0\", \"1\", \"2\", \"3\", \"4\", \"5\", \"6\", \"7\", \"8\", \"9\", \"10\", \"11\", \"12\", \"13\", \"14\", \"15\", \"16\", \"17\", \"18\", \"19\", \"20\", \"21\", \"22\", \"23\"], \"xaxis\": \"x\", \"y\": [14022, 11256, 9246, 6779, 5000, 4043, 4822, 8201, 15170, 18662, 21019, 22949, 25147, 24283, 27382, 28918, 26383, 25674, 25674, 25068, 24489, 22773, 20187, 17225], \"yaxis\": \"y\"}, {\"alignmentgroup\": \"True\", \"hoverlabel\": {\"namelength\": 0}, \"hovertemplate\": \"Primary_Type=ROBBERY<br>Timezone=%{x}<br>Count=%{y}\", \"legendgroup\": \"Primary_Type=ROBBERY\", \"marker\": {\"color\": \"#FECB52\"}, \"name\": \"Primary_Type=ROBBERY\", \"offsetgroup\": \"Primary_Type=ROBBERY\", \"orientation\": \"v\", \"showlegend\": true, \"textposition\": \"auto\", \"type\": \"bar\", \"x\": [\"0\", \"1\", \"2\", \"3\", \"4\", \"5\", \"6\", \"7\", \"8\", \"9\", \"10\", \"11\", \"12\", \"13\", \"14\", \"15\", \"16\", \"17\", \"18\", \"19\", \"20\", \"21\", \"22\", \"23\"], \"xaxis\": \"x\", \"y\": [13423, 12706, 11422, 9764, 7940, 6062, 4867, 4640, 5365, 6254, 7436, 8720, 9528, 9970, 11018, 12762, 13103, 13254, 14422, 15059, 15636, 16566, 16156, 15082], \"yaxis\": \"y\"}, {\"alignmentgroup\": \"True\", \"hoverlabel\": {\"namelength\": 0}, \"hovertemplate\": \"Primary_Type=CRIMINAL TRESPASS<br>Timezone=%{x}<br>Count=%{y}\", \"legendgroup\": \"Primary_Type=CRIMINAL TRESPASS\", \"marker\": {\"color\": \"#636efa\"}, \"name\": \"Primary_Type=CRIMINAL TRESPASS\", \"offsetgroup\": \"Primary_Type=CRIMINAL TRESPASS\", \"orientation\": \"v\", \"showlegend\": true, \"textposition\": \"auto\", \"type\": \"bar\", \"x\": [\"0\", \"1\", \"2\", \"3\", \"4\", \"5\", \"6\", \"7\", \"8\", \"9\", \"10\", \"11\", \"12\", \"13\", \"14\", \"15\", \"16\", \"17\", \"18\", \"19\", \"20\", \"21\", \"22\", \"23\"], \"xaxis\": \"x\", \"y\": [6833, 5209, 4257, 3380, 2711, 2356, 2645, 4471, 6664, 7872, 9032, 10665, 10869, 10542, 10838, 10504, 10157, 10309, 11631, 13365, 13011, 12305, 10359, 8277], \"yaxis\": \"y\"}, {\"alignmentgroup\": \"True\", \"hoverlabel\": {\"namelength\": 0}, \"hovertemplate\": \"Primary_Type=OFFENSE INVOLVING CHILDREN<br>Timezone=%{x}<br>Count=%{y}\", \"legendgroup\": \"Primary_Type=OFFENSE INVOLVING CHILDREN\", \"marker\": {\"color\": \"#EF553B\"}, \"name\": \"Primary_Type=OFFENSE INVOLVING CHILDREN\", \"offsetgroup\": \"Primary_Type=OFFENSE INVOLVING CHILDREN\", \"orientation\": \"v\", \"showlegend\": true, \"textposition\": \"auto\", \"type\": \"bar\", \"x\": [\"0\", \"1\", \"2\", \"3\", \"4\", \"5\", \"6\", \"7\", \"8\", \"9\", \"10\", \"11\", \"12\", \"13\", \"14\", \"15\", \"16\", \"17\", \"18\", \"19\", \"20\", \"21\", \"22\", \"23\"], \"xaxis\": \"x\", \"y\": [5722, 703, 457, 401, 263, 303, 499, 1095, 1929, 2269, 2230, 1576, 2674, 1637, 2075, 2850, 2824, 3045, 3340, 2517, 2279, 1738, 1516, 1110], \"yaxis\": \"y\"}, {\"alignmentgroup\": \"True\", \"hoverlabel\": {\"namelength\": 0}, \"hovertemplate\": \"Primary_Type=WEAPONS VIOLATION<br>Timezone=%{x}<br>Count=%{y}\", \"legendgroup\": \"Primary_Type=WEAPONS VIOLATION\", \"marker\": {\"color\": \"#00cc96\"}, \"name\": \"Primary_Type=WEAPONS VIOLATION\", \"offsetgroup\": \"Primary_Type=WEAPONS VIOLATION\", \"orientation\": \"v\", \"showlegend\": true, \"textposition\": \"auto\", \"type\": \"bar\", \"x\": [\"0\", \"1\", \"2\", \"3\", \"4\", \"5\", \"6\", \"7\", \"8\", \"9\", \"10\", \"11\", \"12\", \"13\", \"14\", \"15\", \"16\", \"17\", \"18\", \"19\", \"20\", \"21\", \"22\", \"23\"], \"xaxis\": \"x\", \"y\": [4938, 3348, 2306, 1567, 1051, 517, 648, 805, 1818, 2069, 2348, 2970, 3019, 3095, 3074, 3054, 2750, 2683, 3986, 5450, 5756, 6269, 6422, 5732], \"yaxis\": \"y\"}, {\"alignmentgroup\": \"True\", \"hoverlabel\": {\"namelength\": 0}, \"hovertemplate\": \"Primary_Type=CRIM SEXUAL ASSAULT<br>Timezone=%{x}<br>Count=%{y}\", \"legendgroup\": \"Primary_Type=CRIM SEXUAL ASSAULT\", \"marker\": {\"color\": \"#ab63fa\"}, \"name\": \"Primary_Type=CRIM SEXUAL ASSAULT\", \"offsetgroup\": \"Primary_Type=CRIM SEXUAL ASSAULT\", \"orientation\": \"v\", \"showlegend\": true, \"textposition\": \"auto\", \"type\": \"bar\", \"x\": [\"0\", \"1\", \"2\", \"3\", \"4\", \"5\", \"6\", \"7\", \"8\", \"9\", \"10\", \"11\", \"12\", \"13\", \"14\", \"15\", \"16\", \"17\", \"18\", \"19\", \"20\", \"21\", \"22\", \"23\"], \"xaxis\": \"x\", \"y\": [3099, 1635, 1746, 1641, 1360, 968, 704, 610, 653, 681, 591, 564, 861, 640, 771, 980, 956, 926, 970, 1025, 1224, 1279, 1615, 1617], \"yaxis\": \"y\"}, {\"alignmentgroup\": \"True\", \"hoverlabel\": {\"namelength\": 0}, \"hovertemplate\": \"Primary_Type=PROSTITUTION<br>Timezone=%{x}<br>Count=%{y}\", \"legendgroup\": \"Primary_Type=PROSTITUTION\", \"marker\": {\"color\": \"#FFA15A\"}, \"name\": \"Primary_Type=PROSTITUTION\", \"offsetgroup\": \"Primary_Type=PROSTITUTION\", \"orientation\": \"v\", \"showlegend\": true, \"textposition\": \"auto\", \"type\": \"bar\", \"x\": [\"0\", \"1\", \"2\", \"3\", \"4\", \"5\", \"6\", \"7\", \"8\", \"9\", \"10\", \"11\", \"12\", \"13\", \"14\", \"15\", \"16\", \"17\", \"18\", \"19\", \"20\", \"21\", \"22\", \"23\"], \"xaxis\": \"x\", \"y\": [2942, 2187, 1812, 1350, 884, 1460, 3464, 4335, 3723, 2298, 1709, 1542, 1392, 1236, 1165, 798, 764, 950, 1913, 4179, 8426, 7218, 7107, 5405], \"yaxis\": \"y\"}, {\"alignmentgroup\": \"True\", \"hoverlabel\": {\"namelength\": 0}, \"hovertemplate\": \"Primary_Type=SEX OFFENSE<br>Timezone=%{x}<br>Count=%{y}\", \"legendgroup\": \"Primary_Type=SEX OFFENSE\", \"marker\": {\"color\": \"#19d3f3\"}, \"name\": \"Primary_Type=SEX OFFENSE\", \"offsetgroup\": \"Primary_Type=SEX OFFENSE\", \"orientation\": \"v\", \"showlegend\": true, \"textposition\": \"auto\", \"type\": \"bar\", \"x\": [\"0\", \"1\", \"2\", \"3\", \"4\", \"5\", \"6\", \"7\", \"8\", \"9\", \"10\", \"11\", \"12\", \"13\", \"14\", \"15\", \"16\", \"17\", \"18\", \"19\", \"20\", \"21\", \"22\", \"23\"], \"xaxis\": \"x\", \"y\": [2122, 713, 610, 625, 475, 387, 451, 843, 1246, 1140, 969, 995, 1345, 1205, 1291, 1527, 1411, 1273, 1203, 1148, 1119, 1064, 952, 847], \"yaxis\": \"y\"}, {\"alignmentgroup\": \"True\", \"hoverlabel\": {\"namelength\": 0}, \"hovertemplate\": \"Primary_Type=PUBLIC PEACE VIOLATION<br>Timezone=%{x}<br>Count=%{y}\", \"legendgroup\": \"Primary_Type=PUBLIC PEACE VIOLATION\", \"marker\": {\"color\": \"#FF6692\"}, \"name\": \"Primary_Type=PUBLIC PEACE VIOLATION\", \"offsetgroup\": \"Primary_Type=PUBLIC PEACE VIOLATION\", \"orientation\": \"v\", \"showlegend\": true, \"textposition\": \"auto\", \"type\": \"bar\", \"x\": [\"0\", \"1\", \"2\", \"3\", \"4\", \"5\", \"6\", \"7\", \"8\", \"9\", \"10\", \"11\", \"12\", \"13\", \"14\", \"15\", \"16\", \"17\", \"18\", \"19\", \"20\", \"21\", \"22\", \"23\"], \"xaxis\": \"x\", \"y\": [1793, 1403, 1126, 738, 486, 330, 343, 567, 1087, 1493, 1991, 2459, 2764, 2759, 2755, 3293, 2599, 2393, 2911, 3455, 3533, 3403, 2882, 2345], \"yaxis\": \"y\"}, {\"alignmentgroup\": \"True\", \"hoverlabel\": {\"namelength\": 0}, \"hovertemplate\": \"Primary_Type=INTERFERENCE WITH PUBLIC OFFICER<br>Timezone=%{x}<br>Count=%{y}\", \"legendgroup\": \"Primary_Type=INTERFERENCE WITH PUBLIC OFFICER\", \"marker\": {\"color\": \"#B6E880\"}, \"name\": \"Primary_Type=INTERFERENCE WITH PUBLIC OFFICER\", \"offsetgroup\": \"Primary_Type=INTERFERENCE WITH PUBLIC OFFICER\", \"orientation\": \"v\", \"showlegend\": true, \"textposition\": \"auto\", \"type\": \"bar\", \"x\": [\"0\", \"1\", \"2\", \"3\", \"4\", \"5\", \"6\", \"7\", \"8\", \"9\", \"10\", \"11\", \"12\", \"13\", \"14\", \"15\", \"16\", \"17\", \"18\", \"19\", \"20\", \"21\", \"22\", \"23\"], \"xaxis\": \"x\", \"y\": [958, 803, 636, 389, 273, 97, 91, 127, 213, 345, 552, 728, 703, 621, 587, 742, 766, 914, 1002, 1259, 1198, 1142, 1205, 1057], \"yaxis\": \"y\"}, {\"alignmentgroup\": \"True\", \"hoverlabel\": {\"namelength\": 0}, \"hovertemplate\": \"Primary_Type=ARSON<br>Timezone=%{x}<br>Count=%{y}\", \"legendgroup\": \"Primary_Type=ARSON\", \"marker\": {\"color\": \"#FF97FF\"}, \"name\": \"Primary_Type=ARSON\", \"offsetgroup\": \"Primary_Type=ARSON\", \"orientation\": \"v\", \"showlegend\": true, \"textposition\": \"auto\", \"type\": \"bar\", \"x\": [\"0\", \"1\", \"2\", \"3\", \"4\", \"5\", \"6\", \"7\", \"8\", \"9\", \"10\", \"11\", \"12\", \"13\", \"14\", \"15\", \"16\", \"17\", \"18\", \"19\", \"20\", \"21\", \"22\", \"23\"], \"xaxis\": \"x\", \"y\": [919, 954, 949, 871, 778, 594, 381, 266, 244, 241, 238, 271, 269, 230, 244, 247, 275, 294, 330, 395, 440, 570, 655, 735], \"yaxis\": \"y\"}, {\"alignmentgroup\": \"True\", \"hoverlabel\": {\"namelength\": 0}, \"hovertemplate\": \"Primary_Type=LIQUOR LAW VIOLATION<br>Timezone=%{x}<br>Count=%{y}\", \"legendgroup\": \"Primary_Type=LIQUOR LAW VIOLATION\", \"marker\": {\"color\": \"#FECB52\"}, \"name\": \"Primary_Type=LIQUOR LAW VIOLATION\", \"offsetgroup\": \"Primary_Type=LIQUOR LAW VIOLATION\", \"orientation\": \"v\", \"showlegend\": true, \"textposition\": \"auto\", \"type\": \"bar\", \"x\": [\"0\", \"1\", \"2\", \"3\", \"4\", \"5\", \"6\", \"7\", \"8\", \"9\", \"10\", \"11\", \"12\", \"13\", \"14\", \"15\", \"16\", \"17\", \"18\", \"19\", \"20\", \"21\", \"22\", \"23\"], \"xaxis\": \"x\", \"y\": [872, 752, 579, 341, 149, 50, 38, 31, 71, 115, 164, 287, 354, 383, 317, 301, 457, 716, 1224, 1612, 1484, 1373, 1362, 1093], \"yaxis\": \"y\"}, {\"alignmentgroup\": \"True\", \"hoverlabel\": {\"namelength\": 0}, \"hovertemplate\": \"Primary_Type=HOMICIDE<br>Timezone=%{x}<br>Count=%{y}\", \"legendgroup\": \"Primary_Type=HOMICIDE\", \"marker\": {\"color\": \"#636efa\"}, \"name\": \"Primary_Type=HOMICIDE\", \"offsetgroup\": \"Primary_Type=HOMICIDE\", \"orientation\": \"v\", \"showlegend\": true, \"textposition\": \"auto\", \"type\": \"bar\", \"x\": [\"0\", \"1\", \"2\", \"3\", \"4\", \"5\", \"6\", \"7\", \"8\", \"9\", \"10\", \"11\", \"12\", \"13\", \"14\", \"15\", \"16\", \"17\", \"18\", \"19\", \"20\", \"21\", \"22\", \"23\"], \"xaxis\": \"x\", \"y\": [673, 648, 601, 480, 404, 332, 286, 208, 212, 270, 242, 267, 315, 312, 360, 350, 412, 416, 461, 408, 517, 558, 562, 609], \"yaxis\": \"y\"}, {\"alignmentgroup\": \"True\", \"hoverlabel\": {\"namelength\": 0}, \"hovertemplate\": \"Primary_Type=GAMBLING<br>Timezone=%{x}<br>Count=%{y}\", \"legendgroup\": \"Primary_Type=GAMBLING\", \"marker\": {\"color\": \"#EF553B\"}, \"name\": \"Primary_Type=GAMBLING\", \"offsetgroup\": \"Primary_Type=GAMBLING\", \"orientation\": \"v\", \"showlegend\": true, \"textposition\": \"auto\", \"type\": \"bar\", \"x\": [\"0\", \"1\", \"2\", \"3\", \"4\", \"5\", \"6\", \"7\", \"8\", \"9\", \"10\", \"11\", \"12\", \"13\", \"14\", \"15\", \"16\", \"17\", \"18\", \"19\", \"20\", \"21\", \"22\", \"23\"], \"xaxis\": \"x\", \"y\": [336, 166, 92, 51, 28, 14, 33, 49, 89, 133, 370, 613, 862, 892, 991, 808, 756, 841, 1392, 1851, 1540, 1110, 864, 564], \"yaxis\": \"y\"}, {\"alignmentgroup\": \"True\", \"hoverlabel\": {\"namelength\": 0}, \"hovertemplate\": \"Primary_Type=STALKING<br>Timezone=%{x}<br>Count=%{y}\", \"legendgroup\": \"Primary_Type=STALKING\", \"marker\": {\"color\": \"#00cc96\"}, \"name\": \"Primary_Type=STALKING\", \"offsetgroup\": \"Primary_Type=STALKING\", \"orientation\": \"v\", \"showlegend\": true, \"textposition\": \"auto\", \"type\": \"bar\", \"x\": [\"0\", \"1\", \"2\", \"3\", \"4\", \"5\", \"6\", \"7\", \"8\", \"9\", \"10\", \"11\", \"12\", \"13\", \"14\", \"15\", \"16\", \"17\", \"18\", \"19\", \"20\", \"21\", \"22\", \"23\"], \"xaxis\": \"x\", \"y\": [206, 99, 57, 51, 45, 48, 82, 154, 189, 199, 173, 163, 188, 155, 175, 227, 198, 171, 180, 138, 163, 173, 164, 130], \"yaxis\": \"y\"}, {\"alignmentgroup\": \"True\", \"hoverlabel\": {\"namelength\": 0}, \"hovertemplate\": \"Primary_Type=INTIMIDATION<br>Timezone=%{x}<br>Count=%{y}\", \"legendgroup\": \"Primary_Type=INTIMIDATION\", \"marker\": {\"color\": \"#ab63fa\"}, \"name\": \"Primary_Type=INTIMIDATION\", \"offsetgroup\": \"Primary_Type=INTIMIDATION\", \"orientation\": \"v\", \"showlegend\": true, \"textposition\": \"auto\", \"type\": \"bar\", \"x\": [\"0\", \"1\", \"2\", \"3\", \"4\", \"5\", \"6\", \"7\", \"8\", \"9\", \"10\", \"11\", \"12\", \"13\", \"14\", \"15\", \"16\", \"17\", \"18\", \"19\", \"20\", \"21\", \"22\", \"23\"], \"xaxis\": \"x\", \"y\": [120, 60, 52, 28, 33, 22, 36, 86, 165, 264, 283, 273, 290, 250, 285, 287, 237, 234, 221, 202, 189, 176, 136, 129], \"yaxis\": \"y\"}, {\"alignmentgroup\": \"True\", \"hoverlabel\": {\"namelength\": 0}, \"hovertemplate\": \"Primary_Type=KIDNAPPING<br>Timezone=%{x}<br>Count=%{y}\", \"legendgroup\": \"Primary_Type=KIDNAPPING\", \"marker\": {\"color\": \"#FFA15A\"}, \"name\": \"Primary_Type=KIDNAPPING\", \"offsetgroup\": \"Primary_Type=KIDNAPPING\", \"orientation\": \"v\", \"showlegend\": true, \"textposition\": \"auto\", \"type\": \"bar\", \"x\": [\"0\", \"1\", \"2\", \"3\", \"4\", \"5\", \"6\", \"7\", \"8\", \"9\", \"10\", \"11\", \"12\", \"13\", \"14\", \"15\", \"16\", \"17\", \"18\", \"19\", \"20\", \"21\", \"22\", \"23\"], \"xaxis\": \"x\", \"y\": [117, 98, 78, 69, 64, 43, 104, 294, 520, 394, 360, 249, 323, 262, 440, 587, 506, 506, 532, 426, 277, 239, 164, 113], \"yaxis\": \"y\"}, {\"alignmentgroup\": \"True\", \"hoverlabel\": {\"namelength\": 0}, \"hovertemplate\": \"Primary_Type=OBSCENITY<br>Timezone=%{x}<br>Count=%{y}\", \"legendgroup\": \"Primary_Type=OBSCENITY\", \"marker\": {\"color\": \"#19d3f3\"}, \"name\": \"Primary_Type=OBSCENITY\", \"offsetgroup\": \"Primary_Type=OBSCENITY\", \"orientation\": \"v\", \"showlegend\": true, \"textposition\": \"auto\", \"type\": \"bar\", \"x\": [\"0\", \"1\", \"2\", \"3\", \"4\", \"5\", \"6\", \"7\", \"8\", \"9\", \"10\", \"11\", \"12\", \"13\", \"14\", \"15\", \"16\", \"17\", \"18\", \"19\", \"20\", \"21\", \"22\", \"23\"], \"xaxis\": \"x\", \"y\": [58, 10, 7, 11, 6, 7, 14, 11, 35, 34, 30, 25, 48, 35, 33, 47, 31, 26, 24, 23, 33, 20, 19, 20], \"yaxis\": \"y\"}, {\"alignmentgroup\": \"True\", \"hoverlabel\": {\"namelength\": 0}, \"hovertemplate\": \"Primary_Type=CONCEALED CARRY LICENSE VIOLATION<br>Timezone=%{x}<br>Count=%{y}\", \"legendgroup\": \"Primary_Type=CONCEALED CARRY LICENSE VIOLATION\", \"marker\": {\"color\": \"#FF6692\"}, \"name\": \"Primary_Type=CONCEALED CARRY LICENSE VIOLATION\", \"offsetgroup\": \"Primary_Type=CONCEALED CARRY LICENSE VIOLATION\", \"orientation\": \"v\", \"showlegend\": true, \"textposition\": \"auto\", \"type\": \"bar\", \"x\": [\"0\", \"1\", \"2\", \"3\", \"4\", \"5\", \"6\", \"7\", \"8\", \"9\", \"10\", \"11\", \"12\", \"13\", \"14\", \"15\", \"16\", \"17\", \"18\", \"19\", \"20\", \"21\", \"22\", \"23\"], \"xaxis\": \"x\", \"y\": [19, 26, 19, 14, 8, 13, 17, 24, 12, 15, 10, 12, 21, 20, 14, 8, 17, 19, 29, 31, 25, 25, 42, 26], \"yaxis\": \"y\"}, {\"alignmentgroup\": \"True\", \"hoverlabel\": {\"namelength\": 0}, \"hovertemplate\": \"Primary_Type=HUMAN TRAFFICKING<br>Timezone=%{x}<br>Count=%{y}\", \"legendgroup\": \"Primary_Type=HUMAN TRAFFICKING\", \"marker\": {\"color\": \"#B6E880\"}, \"name\": \"Primary_Type=HUMAN TRAFFICKING\", \"offsetgroup\": \"Primary_Type=HUMAN TRAFFICKING\", \"orientation\": \"v\", \"showlegend\": true, \"textposition\": \"auto\", \"type\": \"bar\", \"x\": [\"0\", \"1\", \"3\", \"5\", \"6\", \"7\", \"8\", \"9\", \"10\", \"11\", \"12\", \"13\", \"14\", \"15\", \"16\", \"17\", \"18\", \"19\", \"20\", \"21\", \"22\"], \"xaxis\": \"x\", \"y\": [12, 1, 1, 1, 1, 1, 2, 6, 2, 3, 3, 6, 3, 3, 3, 1, 2, 3, 1, 1, 1], \"yaxis\": \"y\"}, {\"alignmentgroup\": \"True\", \"hoverlabel\": {\"namelength\": 0}, \"hovertemplate\": \"Primary_Type=NON-CRIMINAL<br>Timezone=%{x}<br>Count=%{y}\", \"legendgroup\": \"Primary_Type=NON-CRIMINAL\", \"marker\": {\"color\": \"#FF97FF\"}, \"name\": \"Primary_Type=NON-CRIMINAL\", \"offsetgroup\": \"Primary_Type=NON-CRIMINAL\", \"orientation\": \"v\", \"showlegend\": true, \"textposition\": \"auto\", \"type\": \"bar\", \"x\": [\"0\", \"1\", \"2\", \"3\", \"4\", \"6\", \"7\", \"8\", \"9\", \"10\", \"11\", \"12\", \"13\", \"14\", \"15\", \"16\", \"17\", \"18\", \"19\", \"20\", \"21\", \"22\", \"23\"], \"xaxis\": \"x\", \"y\": [6, 1, 2, 2, 1, 4, 5, 9, 14, 8, 11, 18, 4, 10, 7, 11, 11, 6, 7, 4, 6, 10, 4], \"yaxis\": \"y\"}, {\"alignmentgroup\": \"True\", \"hoverlabel\": {\"namelength\": 0}, \"hovertemplate\": \"Primary_Type=PUBLIC INDECENCY<br>Timezone=%{x}<br>Count=%{y}\", \"legendgroup\": \"Primary_Type=PUBLIC INDECENCY\", \"marker\": {\"color\": \"#FECB52\"}, \"name\": \"Primary_Type=PUBLIC INDECENCY\", \"offsetgroup\": \"Primary_Type=PUBLIC INDECENCY\", \"orientation\": \"v\", \"showlegend\": true, \"textposition\": \"auto\", \"type\": \"bar\", \"x\": [\"0\", \"1\", \"2\", \"4\", \"5\", \"6\", \"7\", \"8\", \"9\", \"10\", \"11\", \"12\", \"13\", \"14\", \"15\", \"16\", \"17\", \"18\", \"19\", \"20\", \"21\", \"22\", \"23\"], \"xaxis\": \"x\", \"y\": [5, 14, 3, 3, 1, 2, 8, 6, 11, 10, 9, 13, 7, 7, 7, 14, 8, 8, 10, 4, 6, 9, 6], \"yaxis\": \"y\"}, {\"alignmentgroup\": \"True\", \"hoverlabel\": {\"namelength\": 0}, \"hovertemplate\": \"Primary_Type=OTHER NARCOTIC VIOLATION<br>Timezone=%{x}<br>Count=%{y}\", \"legendgroup\": \"Primary_Type=OTHER NARCOTIC VIOLATION\", \"marker\": {\"color\": \"#636efa\"}, \"name\": \"Primary_Type=OTHER NARCOTIC VIOLATION\", \"offsetgroup\": \"Primary_Type=OTHER NARCOTIC VIOLATION\", \"orientation\": \"v\", \"showlegend\": true, \"textposition\": \"auto\", \"type\": \"bar\", \"x\": [\"0\", \"1\", \"2\", \"3\", \"4\", \"7\", \"8\", \"9\", \"10\", \"11\", \"12\", \"13\", \"14\", \"15\", \"16\", \"17\", \"18\", \"19\", \"20\", \"21\", \"22\", \"23\"], \"xaxis\": \"x\", \"y\": [4, 5, 2, 1, 1, 1, 1, 6, 8, 7, 13, 14, 6, 4, 8, 8, 7, 7, 10, 5, 3, 6], \"yaxis\": \"y\"}, {\"alignmentgroup\": \"True\", \"hoverlabel\": {\"namelength\": 0}, \"hovertemplate\": \"Primary_Type=RITUALISM<br>Timezone=%{x}<br>Count=%{y}\", \"legendgroup\": \"Primary_Type=RITUALISM\", \"marker\": {\"color\": \"#EF553B\"}, \"name\": \"Primary_Type=RITUALISM\", \"offsetgroup\": \"Primary_Type=RITUALISM\", \"orientation\": \"v\", \"showlegend\": true, \"textposition\": \"auto\", \"type\": \"bar\", \"x\": [\"0\", \"2\", \"5\", \"11\", \"12\", \"13\", \"14\", \"15\", \"16\", \"17\", \"18\", \"21\", \"23\"], \"xaxis\": \"x\", \"y\": [2, 2, 1, 1, 2, 1, 3, 1, 3, 1, 2, 1, 2], \"yaxis\": \"y\"}, {\"alignmentgroup\": \"True\", \"hoverlabel\": {\"namelength\": 0}, \"hovertemplate\": \"Primary_Type=NON - CRIMINAL<br>Timezone=%{x}<br>Count=%{y}\", \"legendgroup\": \"Primary_Type=NON - CRIMINAL\", \"marker\": {\"color\": \"#00cc96\"}, \"name\": \"Primary_Type=NON - CRIMINAL\", \"offsetgroup\": \"Primary_Type=NON - CRIMINAL\", \"orientation\": \"v\", \"showlegend\": true, \"textposition\": \"auto\", \"type\": \"bar\", \"x\": [\"0\", \"7\", \"8\", \"9\", \"10\", \"11\", \"13\", \"14\", \"15\", \"16\", \"17\", \"18\", \"19\", \"20\", \"22\"], \"xaxis\": \"x\", \"y\": [1, 4, 1, 5, 9, 1, 2, 1, 5, 1, 1, 2, 1, 2, 2], \"yaxis\": \"y\"}, {\"alignmentgroup\": \"True\", \"hoverlabel\": {\"namelength\": 0}, \"hovertemplate\": \"Primary_Type=NON-CRIMINAL (SUBJECT SPECIFIED)<br>Timezone=%{x}<br>Count=%{y}\", \"legendgroup\": \"Primary_Type=NON-CRIMINAL (SUBJECT SPECIFIED)\", \"marker\": {\"color\": \"#ab63fa\"}, \"name\": \"Primary_Type=NON-CRIMINAL (SUBJECT SPECIFIED)\", \"offsetgroup\": \"Primary_Type=NON-CRIMINAL (SUBJECT SPECIFIED)\", \"orientation\": \"v\", \"showlegend\": true, \"textposition\": \"auto\", \"type\": \"bar\", \"x\": [\"1\", \"11\", \"13\", \"17\", \"18\", \"20\", \"21\", \"23\"], \"xaxis\": \"x\", \"y\": [1, 1, 1, 2, 1, 1, 1, 1], \"yaxis\": \"y\"}, {\"alignmentgroup\": \"True\", \"hoverlabel\": {\"namelength\": 0}, \"hovertemplate\": \"Primary_Type=DOMESTIC VIOLENCE<br>Timezone=%{x}<br>Count=%{y}\", \"legendgroup\": \"Primary_Type=DOMESTIC VIOLENCE\", \"marker\": {\"color\": \"#FFA15A\"}, \"name\": \"Primary_Type=DOMESTIC VIOLENCE\", \"offsetgroup\": \"Primary_Type=DOMESTIC VIOLENCE\", \"orientation\": \"v\", \"showlegend\": true, \"textposition\": \"auto\", \"type\": \"bar\", \"x\": [\"2\"], \"xaxis\": \"x\", \"y\": [1], \"yaxis\": \"y\"}],\n",
       "                        {\"barmode\": \"relative\", \"height\": 600, \"legend\": {\"tracegroupgap\": 0}, \"margin\": {\"t\": 60}, \"template\": {\"data\": {\"bar\": [{\"error_x\": {\"color\": \"#2a3f5f\"}, \"error_y\": {\"color\": \"#2a3f5f\"}, \"marker\": {\"line\": {\"color\": \"#E5ECF6\", \"width\": 0.5}}, \"type\": \"bar\"}], \"barpolar\": [{\"marker\": {\"line\": {\"color\": \"#E5ECF6\", \"width\": 0.5}}, \"type\": \"barpolar\"}], \"carpet\": [{\"aaxis\": {\"endlinecolor\": \"#2a3f5f\", \"gridcolor\": \"white\", \"linecolor\": \"white\", \"minorgridcolor\": \"white\", \"startlinecolor\": \"#2a3f5f\"}, \"baxis\": {\"endlinecolor\": \"#2a3f5f\", \"gridcolor\": \"white\", \"linecolor\": \"white\", \"minorgridcolor\": \"white\", \"startlinecolor\": \"#2a3f5f\"}, \"type\": \"carpet\"}], \"choropleth\": [{\"colorbar\": {\"outlinewidth\": 0, \"ticks\": \"\"}, \"type\": \"choropleth\"}], \"contour\": [{\"colorbar\": {\"outlinewidth\": 0, \"ticks\": \"\"}, \"colorscale\": [[0.0, \"#0d0887\"], [0.1111111111111111, \"#46039f\"], [0.2222222222222222, \"#7201a8\"], [0.3333333333333333, \"#9c179e\"], [0.4444444444444444, \"#bd3786\"], [0.5555555555555556, \"#d8576b\"], [0.6666666666666666, \"#ed7953\"], [0.7777777777777778, \"#fb9f3a\"], [0.8888888888888888, \"#fdca26\"], [1.0, \"#f0f921\"]], \"type\": \"contour\"}], \"contourcarpet\": [{\"colorbar\": {\"outlinewidth\": 0, \"ticks\": \"\"}, \"type\": \"contourcarpet\"}], \"heatmap\": [{\"colorbar\": {\"outlinewidth\": 0, \"ticks\": \"\"}, \"colorscale\": [[0.0, \"#0d0887\"], [0.1111111111111111, \"#46039f\"], [0.2222222222222222, \"#7201a8\"], [0.3333333333333333, \"#9c179e\"], [0.4444444444444444, \"#bd3786\"], [0.5555555555555556, \"#d8576b\"], [0.6666666666666666, \"#ed7953\"], [0.7777777777777778, \"#fb9f3a\"], [0.8888888888888888, \"#fdca26\"], [1.0, \"#f0f921\"]], \"type\": \"heatmap\"}], \"heatmapgl\": [{\"colorbar\": {\"outlinewidth\": 0, \"ticks\": \"\"}, \"colorscale\": [[0.0, \"#0d0887\"], [0.1111111111111111, \"#46039f\"], [0.2222222222222222, \"#7201a8\"], [0.3333333333333333, \"#9c179e\"], [0.4444444444444444, \"#bd3786\"], [0.5555555555555556, \"#d8576b\"], [0.6666666666666666, \"#ed7953\"], [0.7777777777777778, \"#fb9f3a\"], [0.8888888888888888, \"#fdca26\"], [1.0, \"#f0f921\"]], \"type\": \"heatmapgl\"}], \"histogram\": [{\"marker\": {\"colorbar\": {\"outlinewidth\": 0, \"ticks\": \"\"}}, \"type\": \"histogram\"}], \"histogram2d\": [{\"colorbar\": {\"outlinewidth\": 0, \"ticks\": \"\"}, \"colorscale\": [[0.0, \"#0d0887\"], [0.1111111111111111, \"#46039f\"], [0.2222222222222222, \"#7201a8\"], [0.3333333333333333, \"#9c179e\"], [0.4444444444444444, \"#bd3786\"], [0.5555555555555556, \"#d8576b\"], [0.6666666666666666, \"#ed7953\"], [0.7777777777777778, \"#fb9f3a\"], [0.8888888888888888, \"#fdca26\"], [1.0, \"#f0f921\"]], \"type\": \"histogram2d\"}], \"histogram2dcontour\": [{\"colorbar\": {\"outlinewidth\": 0, \"ticks\": \"\"}, \"colorscale\": [[0.0, \"#0d0887\"], [0.1111111111111111, \"#46039f\"], [0.2222222222222222, \"#7201a8\"], [0.3333333333333333, \"#9c179e\"], [0.4444444444444444, \"#bd3786\"], [0.5555555555555556, \"#d8576b\"], [0.6666666666666666, \"#ed7953\"], [0.7777777777777778, \"#fb9f3a\"], [0.8888888888888888, \"#fdca26\"], [1.0, \"#f0f921\"]], \"type\": \"histogram2dcontour\"}], \"mesh3d\": [{\"colorbar\": {\"outlinewidth\": 0, \"ticks\": \"\"}, \"type\": \"mesh3d\"}], \"parcoords\": [{\"line\": {\"colorbar\": {\"outlinewidth\": 0, \"ticks\": \"\"}}, \"type\": \"parcoords\"}], \"pie\": [{\"automargin\": true, \"type\": \"pie\"}], \"scatter\": [{\"marker\": {\"colorbar\": {\"outlinewidth\": 0, \"ticks\": \"\"}}, \"type\": \"scatter\"}], \"scatter3d\": [{\"line\": {\"colorbar\": {\"outlinewidth\": 0, \"ticks\": \"\"}}, \"marker\": {\"colorbar\": {\"outlinewidth\": 0, \"ticks\": \"\"}}, \"type\": \"scatter3d\"}], \"scattercarpet\": [{\"marker\": {\"colorbar\": {\"outlinewidth\": 0, \"ticks\": \"\"}}, \"type\": \"scattercarpet\"}], \"scattergeo\": [{\"marker\": {\"colorbar\": {\"outlinewidth\": 0, \"ticks\": \"\"}}, \"type\": \"scattergeo\"}], \"scattergl\": [{\"marker\": {\"colorbar\": {\"outlinewidth\": 0, \"ticks\": \"\"}}, \"type\": \"scattergl\"}], \"scattermapbox\": [{\"marker\": {\"colorbar\": {\"outlinewidth\": 0, \"ticks\": \"\"}}, \"type\": \"scattermapbox\"}], \"scatterpolar\": [{\"marker\": {\"colorbar\": {\"outlinewidth\": 0, \"ticks\": \"\"}}, \"type\": \"scatterpolar\"}], \"scatterpolargl\": [{\"marker\": {\"colorbar\": {\"outlinewidth\": 0, \"ticks\": \"\"}}, \"type\": \"scatterpolargl\"}], \"scatterternary\": [{\"marker\": {\"colorbar\": {\"outlinewidth\": 0, \"ticks\": \"\"}}, \"type\": \"scatterternary\"}], \"surface\": [{\"colorbar\": {\"outlinewidth\": 0, \"ticks\": \"\"}, \"colorscale\": [[0.0, \"#0d0887\"], [0.1111111111111111, \"#46039f\"], [0.2222222222222222, \"#7201a8\"], [0.3333333333333333, \"#9c179e\"], [0.4444444444444444, \"#bd3786\"], [0.5555555555555556, \"#d8576b\"], [0.6666666666666666, \"#ed7953\"], [0.7777777777777778, \"#fb9f3a\"], [0.8888888888888888, \"#fdca26\"], [1.0, \"#f0f921\"]], \"type\": \"surface\"}], \"table\": [{\"cells\": {\"fill\": {\"color\": \"#EBF0F8\"}, \"line\": {\"color\": \"white\"}}, \"header\": {\"fill\": {\"color\": \"#C8D4E3\"}, \"line\": {\"color\": \"white\"}}, \"type\": \"table\"}]}, \"layout\": {\"annotationdefaults\": {\"arrowcolor\": \"#2a3f5f\", \"arrowhead\": 0, \"arrowwidth\": 1}, \"coloraxis\": {\"colorbar\": {\"outlinewidth\": 0, \"ticks\": \"\"}}, \"colorscale\": {\"diverging\": [[0, \"#8e0152\"], [0.1, \"#c51b7d\"], [0.2, \"#de77ae\"], [0.3, \"#f1b6da\"], [0.4, \"#fde0ef\"], [0.5, \"#f7f7f7\"], [0.6, \"#e6f5d0\"], [0.7, \"#b8e186\"], [0.8, \"#7fbc41\"], [0.9, \"#4d9221\"], [1, \"#276419\"]], \"sequential\": [[0.0, \"#0d0887\"], [0.1111111111111111, \"#46039f\"], [0.2222222222222222, \"#7201a8\"], [0.3333333333333333, \"#9c179e\"], [0.4444444444444444, \"#bd3786\"], [0.5555555555555556, \"#d8576b\"], [0.6666666666666666, \"#ed7953\"], [0.7777777777777778, \"#fb9f3a\"], [0.8888888888888888, \"#fdca26\"], [1.0, \"#f0f921\"]], \"sequentialminus\": [[0.0, \"#0d0887\"], [0.1111111111111111, \"#46039f\"], [0.2222222222222222, \"#7201a8\"], [0.3333333333333333, \"#9c179e\"], [0.4444444444444444, \"#bd3786\"], [0.5555555555555556, \"#d8576b\"], [0.6666666666666666, \"#ed7953\"], [0.7777777777777778, \"#fb9f3a\"], [0.8888888888888888, \"#fdca26\"], [1.0, \"#f0f921\"]]}, \"colorway\": [\"#636efa\", \"#EF553B\", \"#00cc96\", \"#ab63fa\", \"#FFA15A\", \"#19d3f3\", \"#FF6692\", \"#B6E880\", \"#FF97FF\", \"#FECB52\"], \"font\": {\"color\": \"#2a3f5f\"}, \"geo\": {\"bgcolor\": \"white\", \"lakecolor\": \"white\", \"landcolor\": \"#E5ECF6\", \"showlakes\": true, \"showland\": true, \"subunitcolor\": \"white\"}, \"hoverlabel\": {\"align\": \"left\"}, \"hovermode\": \"closest\", \"mapbox\": {\"style\": \"light\"}, \"paper_bgcolor\": \"white\", \"plot_bgcolor\": \"#E5ECF6\", \"polar\": {\"angularaxis\": {\"gridcolor\": \"white\", \"linecolor\": \"white\", \"ticks\": \"\"}, \"bgcolor\": \"#E5ECF6\", \"radialaxis\": {\"gridcolor\": \"white\", \"linecolor\": \"white\", \"ticks\": \"\"}}, \"scene\": {\"xaxis\": {\"backgroundcolor\": \"#E5ECF6\", \"gridcolor\": \"white\", \"gridwidth\": 2, \"linecolor\": \"white\", \"showbackground\": true, \"ticks\": \"\", \"zerolinecolor\": \"white\"}, \"yaxis\": {\"backgroundcolor\": \"#E5ECF6\", \"gridcolor\": \"white\", \"gridwidth\": 2, \"linecolor\": \"white\", \"showbackground\": true, \"ticks\": \"\", \"zerolinecolor\": \"white\"}, \"zaxis\": {\"backgroundcolor\": \"#E5ECF6\", \"gridcolor\": \"white\", \"gridwidth\": 2, \"linecolor\": \"white\", \"showbackground\": true, \"ticks\": \"\", \"zerolinecolor\": \"white\"}}, \"shapedefaults\": {\"line\": {\"color\": \"#2a3f5f\"}}, \"ternary\": {\"aaxis\": {\"gridcolor\": \"white\", \"linecolor\": \"white\", \"ticks\": \"\"}, \"baxis\": {\"gridcolor\": \"white\", \"linecolor\": \"white\", \"ticks\": \"\"}, \"bgcolor\": \"#E5ECF6\", \"caxis\": {\"gridcolor\": \"white\", \"linecolor\": \"white\", \"ticks\": \"\"}}, \"title\": {\"x\": 0.05}, \"xaxis\": {\"automargin\": true, \"gridcolor\": \"white\", \"linecolor\": \"white\", \"ticks\": \"\", \"title\": {\"standoff\": 15}, \"zerolinecolor\": \"white\", \"zerolinewidth\": 2}, \"yaxis\": {\"automargin\": true, \"gridcolor\": \"white\", \"linecolor\": \"white\", \"ticks\": \"\", \"title\": {\"standoff\": 15}, \"zerolinecolor\": \"white\", \"zerolinewidth\": 2}}}, \"xaxis\": {\"anchor\": \"y\", \"domain\": [0.0, 1.0], \"title\": {\"text\": \"Timezone\"}}, \"yaxis\": {\"anchor\": \"x\", \"domain\": [0.0, 1.0], \"title\": {\"text\": \"Count\"}}},\n",
       "                        {\"responsive\": true}\n",
       "                    ).then(function(){\n",
       "                            \n",
       "var gd = document.getElementById('aa297389-d2f2-47d3-9e31-ddc9ed70da75');\n",
       "var x = new MutationObserver(function (mutations, observer) {{\n",
       "        var display = window.getComputedStyle(gd).display;\n",
       "        if (!display || display === 'none') {{\n",
       "            console.log([gd, 'removed!']);\n",
       "            Plotly.purge(gd);\n",
       "            observer.disconnect();\n",
       "        }}\n",
       "}});\n",
       "\n",
       "// Listen for the removal of the full notebook cells\n",
       "var notebookContainer = gd.closest('#notebook-container');\n",
       "if (notebookContainer) {{\n",
       "    x.observe(notebookContainer, {childList: true});\n",
       "}}\n",
       "\n",
       "// Listen for the clearing of the current output cell\n",
       "var outputEl = gd.closest('.output');\n",
       "if (outputEl) {{\n",
       "    x.observe(outputEl, {childList: true});\n",
       "}}\n",
       "\n",
       "                        })\n",
       "                };\n",
       "                });\n",
       "            </script>\n",
       "        </div>"
      ]
     },
     "metadata": {},
     "output_type": "display_data"
    }
   ],
   "source": [
    "#timezone = str\n",
    "fig.show()"
   ]
  },
  {
   "cell_type": "markdown",
   "metadata": {},
   "source": [
    "# 범죄 별 시간대와의 상관관계"
   ]
  },
  {
   "cell_type": "code",
   "execution_count": 45,
   "metadata": {
    "scrolled": true
   },
   "outputs": [
    {
     "name": "stdout",
     "output_type": "stream",
     "text": [
      "CRIME: THEFT\n",
      "          Timezone     Count\n",
      "Timezone  1.000000  0.542647\n",
      "Count     0.542647  1.000000\n"
     ]
    },
    {
     "data": {
      "image/png": "[encoded data removed]",
      "text/plain": [
       "<Figure size 288x288 with 2 Axes>"
      ]
     },
     "metadata": {
      "needs_background": "light"
     },
     "output_type": "display_data"
    },
    {
     "name": "stdout",
     "output_type": "stream",
     "text": [
      "CRIME: BATTERY\n",
      "          Timezone     Count\n",
      "Timezone  1.000000  0.636826\n",
      "Count     0.636826  1.000000\n"
     ]
    },
    {
     "data": {
      "text/plain": [
       "<Figure size 432x288 with 0 Axes>"
      ]
     },
     "metadata": {},
     "output_type": "display_data"
    },
    {
     "data": {
      "image/png": "[encoded data removed]",
      "text/plain": [
       "<Figure size 288x288 with 2 Axes>"
      ]
     },
     "metadata": {
      "needs_background": "light"
     },
     "output_type": "display_data"
    },
    {
     "name": "stdout",
     "output_type": "stream",
     "text": [
      "CRIME: CRIMINAL DAMAGE\n",
      "          Timezone     Count\n",
      "Timezone  1.000000  0.539234\n",
      "Count     0.539234  1.000000\n"
     ]
    },
    {
     "data": {
      "text/plain": [
       "<Figure size 432x288 with 0 Axes>"
      ]
     },
     "metadata": {},
     "output_type": "display_data"
    },
    {
     "data": {
      "image/png": "[encoded data removed]",
      "text/plain": [
       "<Figure size 288x288 with 2 Axes>"
      ]
     },
     "metadata": {
      "needs_background": "light"
     },
     "output_type": "display_data"
    },
    {
     "name": "stdout",
     "output_type": "stream",
     "text": [
      "CRIME: DECEPTIVE PRACTICE\n",
      "          Timezone     Count\n",
      "Timezone  1.000000  0.012033\n",
      "Count     0.012033  1.000000\n"
     ]
    },
    {
     "data": {
      "text/plain": [
       "<Figure size 432x288 with 0 Axes>"
      ]
     },
     "metadata": {},
     "output_type": "display_data"
    },
    {
     "data": {
      "image/png": "[encoded data removed]",
      "text/plain": [
       "<Figure size 288x288 with 2 Axes>"
      ]
     },
     "metadata": {
      "needs_background": "light"
     },
     "output_type": "display_data"
    },
    {
     "name": "stdout",
     "output_type": "stream",
     "text": [
      "CRIME: NARCOTICS\n",
      "          Timezone     Count\n",
      "Timezone  1.000000  0.811683\n",
      "Count     0.811683  1.000000\n"
     ]
    },
    {
     "data": {
      "text/plain": [
       "<Figure size 432x288 with 0 Axes>"
      ]
     },
     "metadata": {},
     "output_type": "display_data"
    },
    {
     "data": {
      "image/png": "[encoded data removed]",
      "text/plain": [
       "<Figure size 288x288 with 2 Axes>"
      ]
     },
     "metadata": {
      "needs_background": "light"
     },
     "output_type": "display_data"
    },
    {
     "name": "stdout",
     "output_type": "stream",
     "text": [
      "CRIME: OTHER OFFENSE\n",
      "          Timezone     Count\n",
      "Timezone  1.000000  0.533842\n",
      "Count     0.533842  1.000000\n"
     ]
    },
    {
     "data": {
      "text/plain": [
       "<Figure size 432x288 with 0 Axes>"
      ]
     },
     "metadata": {},
     "output_type": "display_data"
    },
    {
     "data": {
      "image/png": "[encoded data removed]",
      "text/plain": [
       "<Figure size 288x288 with 2 Axes>"
      ]
     },
     "metadata": {
      "needs_background": "light"
     },
     "output_type": "display_data"
    },
    {
     "name": "stdout",
     "output_type": "stream",
     "text": [
      "CRIME: MOTOR VEHICLE THEFT\n",
      "          Timezone    Count\n",
      "Timezone   1.00000  0.65817\n",
      "Count      0.65817  1.00000\n"
     ]
    },
    {
     "data": {
      "text/plain": [
       "<Figure size 432x288 with 0 Axes>"
      ]
     },
     "metadata": {},
     "output_type": "display_data"
    },
    {
     "data": {
      "image/png": "[encoded data removed]",
      "text/plain": [
       "<Figure size 288x288 with 2 Axes>"
      ]
     },
     "metadata": {
      "needs_background": "light"
     },
     "output_type": "display_data"
    },
    {
     "name": "stdout",
     "output_type": "stream",
     "text": [
      "CRIME: BURGLARY\n",
      "          Timezone     Count\n",
      "Timezone  1.000000  0.279892\n",
      "Count     0.279892  1.000000\n"
     ]
    },
    {
     "data": {
      "text/plain": [
       "<Figure size 432x288 with 0 Axes>"
      ]
     },
     "metadata": {},
     "output_type": "display_data"
    },
    {
     "data": {
      "image/png": "[encoded data removed]",
      "text/plain": [
       "<Figure size 288x288 with 2 Axes>"
      ]
     },
     "metadata": {
      "needs_background": "light"
     },
     "output_type": "display_data"
    },
    {
     "name": "stdout",
     "output_type": "stream",
     "text": [
      "CRIME: ASSAULT\n",
      "          Timezone     Count\n",
      "Timezone  1.000000  0.730047\n",
      "Count     0.730047  1.000000\n"
     ]
    },
    {
     "data": {
      "text/plain": [
       "<Figure size 432x288 with 0 Axes>"
      ]
     },
     "metadata": {},
     "output_type": "display_data"
    },
    {
     "data": {
      "image/png": "[encoded data removed]",
      "text/plain": [
       "<Figure size 288x288 with 2 Axes>"
      ]
     },
     "metadata": {
      "needs_background": "light"
     },
     "output_type": "display_data"
    },
    {
     "name": "stdout",
     "output_type": "stream",
     "text": [
      "CRIME: ROBBERY\n",
      "          Timezone     Count\n",
      "Timezone  1.000000  0.626216\n",
      "Count     0.626216  1.000000\n"
     ]
    },
    {
     "data": {
      "text/plain": [
       "<Figure size 432x288 with 0 Axes>"
      ]
     },
     "metadata": {},
     "output_type": "display_data"
    },
    {
     "data": {
      "image/png": "[encoded data removed]",
      "text/plain": [
       "<Figure size 288x288 with 2 Axes>"
      ]
     },
     "metadata": {
      "needs_background": "light"
     },
     "output_type": "display_data"
    },
    {
     "name": "stdout",
     "output_type": "stream",
     "text": [
      "CRIME: CRIMINAL TRESPASS\n",
      "          Timezone    Count\n",
      "Timezone   1.00000  0.80511\n",
      "Count      0.80511  1.00000\n"
     ]
    },
    {
     "data": {
      "text/plain": [
       "<Figure size 432x288 with 0 Axes>"
      ]
     },
     "metadata": {},
     "output_type": "display_data"
    },
    {
     "data": {
      "image/png": "[encoded data removed]",
      "text/plain": [
       "<Figure size 288x288 with 2 Axes>"
      ]
     },
     "metadata": {
      "needs_background": "light"
     },
     "output_type": "display_data"
    },
    {
     "name": "stdout",
     "output_type": "stream",
     "text": [
      "CRIME: OFFENSE INVOLVING CHILDREN\n",
      "          Timezone     Count\n",
      "Timezone  1.000000  0.219381\n",
      "Count     0.219381  1.000000\n"
     ]
    },
    {
     "data": {
      "text/plain": [
       "<Figure size 432x288 with 0 Axes>"
      ]
     },
     "metadata": {},
     "output_type": "display_data"
    },
    {
     "data": {
      "image/png": "[encoded data removed]",
      "text/plain": [
       "<Figure size 288x288 with 2 Axes>"
      ]
     },
     "metadata": {
      "needs_background": "light"
     },
     "output_type": "display_data"
    },
    {
     "name": "stdout",
     "output_type": "stream",
     "text": [
      "CRIME: WEAPONS VIOLATION\n",
      "          Timezone     Count\n",
      "Timezone  1.000000  0.681661\n",
      "Count     0.681661  1.000000\n"
     ]
    },
    {
     "data": {
      "text/plain": [
       "<Figure size 432x288 with 0 Axes>"
      ]
     },
     "metadata": {},
     "output_type": "display_data"
    },
    {
     "data": {
      "image/png": "[encoded data removed]",
      "text/plain": [
       "<Figure size 288x288 with 2 Axes>"
      ]
     },
     "metadata": {
      "needs_background": "light"
     },
     "output_type": "display_data"
    },
    {
     "name": "stdout",
     "output_type": "stream",
     "text": [
      "CRIME: CRIM SEXUAL ASSAULT\n",
      "          Timezone     Count\n",
      "Timezone  1.000000 -0.252938\n",
      "Count    -0.252938  1.000000\n"
     ]
    },
    {
     "data": {
      "text/plain": [
       "<Figure size 432x288 with 0 Axes>"
      ]
     },
     "metadata": {},
     "output_type": "display_data"
    },
    {
     "data": {
      "image/png": "[encoded data removed]",
      "text/plain": [
       "<Figure size 288x288 with 2 Axes>"
      ]
     },
     "metadata": {
      "needs_background": "light"
     },
     "output_type": "display_data"
    },
    {
     "name": "stdout",
     "output_type": "stream",
     "text": [
      "CRIME: PROSTITUTION\n",
      "          Timezone   Count\n",
      "Timezone    1.0000  0.4856\n",
      "Count       0.4856  1.0000\n"
     ]
    },
    {
     "data": {
      "text/plain": [
       "<Figure size 432x288 with 0 Axes>"
      ]
     },
     "metadata": {},
     "output_type": "display_data"
    },
    {
     "data": {
      "image/png": "[encoded data removed]",
      "text/plain": [
       "<Figure size 288x288 with 2 Axes>"
      ]
     },
     "metadata": {
      "needs_background": "light"
     },
     "output_type": "display_data"
    },
    {
     "name": "stdout",
     "output_type": "stream",
     "text": [
      "CRIME: SEX OFFENSE\n",
      "          Timezone     Count\n",
      "Timezone  1.000000  0.246128\n",
      "Count     0.246128  1.000000\n"
     ]
    },
    {
     "data": {
      "text/plain": [
       "<Figure size 432x288 with 0 Axes>"
      ]
     },
     "metadata": {},
     "output_type": "display_data"
    },
    {
     "data": {
      "image/png": "[encoded data removed]",
      "text/plain": [
       "<Figure size 288x288 with 2 Axes>"
      ]
     },
     "metadata": {
      "needs_background": "light"
     },
     "output_type": "display_data"
    },
    {
     "name": "stdout",
     "output_type": "stream",
     "text": [
      "CRIME: PUBLIC PEACE VIOLATION\n",
      "          Timezone     Count\n",
      "Timezone  1.000000  0.803641\n",
      "Count     0.803641  1.000000\n"
     ]
    },
    {
     "data": {
      "text/plain": [
       "<Figure size 432x288 with 0 Axes>"
      ]
     },
     "metadata": {},
     "output_type": "display_data"
    },
    {
     "data": {
      "image/png": "[encoded data removed]",
      "text/plain": [
       "<Figure size 288x288 with 2 Axes>"
      ]
     },
     "metadata": {
      "needs_background": "light"
     },
     "output_type": "display_data"
    },
    {
     "name": "stdout",
     "output_type": "stream",
     "text": [
      "CRIME: INTERFERENCE WITH PUBLIC OFFICER\n",
      "          Timezone     Count\n",
      "Timezone  1.000000  0.674119\n",
      "Count     0.674119  1.000000\n"
     ]
    },
    {
     "data": {
      "text/plain": [
       "<Figure size 432x288 with 0 Axes>"
      ]
     },
     "metadata": {},
     "output_type": "display_data"
    },
    {
     "data": {
      "image/png": "[encoded data removed]",
      "text/plain": [
       "<Figure size 288x288 with 2 Axes>"
      ]
     },
     "metadata": {
      "needs_background": "light"
     },
     "output_type": "display_data"
    },
    {
     "name": "stdout",
     "output_type": "stream",
     "text": [
      "CRIME: ARSON\n",
      "          Timezone     Count\n",
      "Timezone  1.000000 -0.410121\n",
      "Count    -0.410121  1.000000\n"
     ]
    },
    {
     "data": {
      "text/plain": [
       "<Figure size 432x288 with 0 Axes>"
      ]
     },
     "metadata": {},
     "output_type": "display_data"
    },
    {
     "data": {
      "image/png": "[encoded data removed]",
      "text/plain": [
       "<Figure size 288x288 with 2 Axes>"
      ]
     },
     "metadata": {
      "needs_background": "light"
     },
     "output_type": "display_data"
    },
    {
     "name": "stdout",
     "output_type": "stream",
     "text": [
      "CRIME: LIQUOR LAW VIOLATION\n",
      "          Timezone     Count\n",
      "Timezone  1.000000  0.625588\n",
      "Count     0.625588  1.000000\n"
     ]
    },
    {
     "data": {
      "text/plain": [
       "<Figure size 432x288 with 0 Axes>"
      ]
     },
     "metadata": {},
     "output_type": "display_data"
    },
    {
     "data": {
      "image/png": "[encoded data removed]",
      "text/plain": [
       "<Figure size 288x288 with 2 Axes>"
      ]
     },
     "metadata": {
      "needs_background": "light"
     },
     "output_type": "display_data"
    },
    {
     "name": "stdout",
     "output_type": "stream",
     "text": [
      "CRIME: HOMICIDE\n",
      "          Timezone     Count\n",
      "Timezone  1.000000  0.069786\n",
      "Count     0.069786  1.000000\n"
     ]
    },
    {
     "data": {
      "text/plain": [
       "<Figure size 432x288 with 0 Axes>"
      ]
     },
     "metadata": {},
     "output_type": "display_data"
    },
    {
     "data": {
      "image/png": "[encoded data removed]",
      "text/plain": [
       "<Figure size 288x288 with 2 Axes>"
      ]
     },
     "metadata": {
      "needs_background": "light"
     },
     "output_type": "display_data"
    },
    {
     "name": "stdout",
     "output_type": "stream",
     "text": [
      "CRIME: GAMBLING\n",
      "          Timezone     Count\n",
      "Timezone  1.000000  0.788616\n",
      "Count     0.788616  1.000000\n"
     ]
    },
    {
     "data": {
      "text/plain": [
       "<Figure size 432x288 with 0 Axes>"
      ]
     },
     "metadata": {},
     "output_type": "display_data"
    },
    {
     "data": {
      "image/png": "[encoded data removed]",
      "text/plain": [
       "<Figure size 288x288 with 2 Axes>"
      ]
     },
     "metadata": {
      "needs_background": "light"
     },
     "output_type": "display_data"
    },
    {
     "name": "stdout",
     "output_type": "stream",
     "text": [
      "CRIME: STALKING\n",
      "          Timezone     Count\n",
      "Timezone  1.000000  0.471689\n",
      "Count     0.471689  1.000000\n"
     ]
    },
    {
     "data": {
      "text/plain": [
       "<Figure size 432x288 with 0 Axes>"
      ]
     },
     "metadata": {},
     "output_type": "display_data"
    },
    {
     "data": {
      "image/png": "[encoded data removed]",
      "text/plain": [
       "<Figure size 288x288 with 2 Axes>"
      ]
     },
     "metadata": {
      "needs_background": "light"
     },
     "output_type": "display_data"
    },
    {
     "name": "stdout",
     "output_type": "stream",
     "text": [
      "CRIME: INTIMIDATION\n",
      "          Timezone     Count\n",
      "Timezone  1.000000  0.529006\n",
      "Count     0.529006  1.000000\n"
     ]
    },
    {
     "data": {
      "text/plain": [
       "<Figure size 432x288 with 0 Axes>"
      ]
     },
     "metadata": {},
     "output_type": "display_data"
    },
    {
     "data": {
      "image/png": "[encoded data removed]",
      "text/plain": [
       "<Figure size 288x288 with 2 Axes>"
      ]
     },
     "metadata": {
      "needs_background": "light"
     },
     "output_type": "display_data"
    },
    {
     "name": "stdout",
     "output_type": "stream",
     "text": [
      "CRIME: KIDNAPPING\n",
      "          Timezone     Count\n",
      "Timezone  1.000000  0.463792\n",
      "Count     0.463792  1.000000\n"
     ]
    },
    {
     "data": {
      "text/plain": [
       "<Figure size 432x288 with 0 Axes>"
      ]
     },
     "metadata": {},
     "output_type": "display_data"
    },
    {
     "data": {
      "image/png": "[encoded data removed]",
      "text/plain": [
       "<Figure size 288x288 with 2 Axes>"
      ]
     },
     "metadata": {
      "needs_background": "light"
     },
     "output_type": "display_data"
    },
    {
     "name": "stdout",
     "output_type": "stream",
     "text": [
      "CRIME: OBSCENITY\n",
      "          Timezone     Count\n",
      "Timezone  1.000000  0.186745\n",
      "Count     0.186745  1.000000\n"
     ]
    },
    {
     "data": {
      "text/plain": [
       "<Figure size 432x288 with 0 Axes>"
      ]
     },
     "metadata": {},
     "output_type": "display_data"
    },
    {
     "data": {
      "image/png": "[encoded data removed]",
      "text/plain": [
       "<Figure size 288x288 with 2 Axes>"
      ]
     },
     "metadata": {
      "needs_background": "light"
     },
     "output_type": "display_data"
    },
    {
     "name": "stdout",
     "output_type": "stream",
     "text": [
      "CRIME: CONCEALED CARRY LICENSE VIOLATION\n",
      "          Timezone    Count\n",
      "Timezone   1.00000  0.50102\n",
      "Count      0.50102  1.00000\n"
     ]
    },
    {
     "data": {
      "text/plain": [
       "<Figure size 432x288 with 0 Axes>"
      ]
     },
     "metadata": {},
     "output_type": "display_data"
    },
    {
     "data": {
      "image/png": "[encoded data removed]",
      "text/plain": [
       "<Figure size 288x288 with 2 Axes>"
      ]
     },
     "metadata": {
      "needs_background": "light"
     },
     "output_type": "display_data"
    },
    {
     "name": "stdout",
     "output_type": "stream",
     "text": [
      "CRIME: HUMAN TRAFFICKING\n",
      "          Timezone     Count\n",
      "Timezone  1.000000 -0.300402\n",
      "Count    -0.300402  1.000000\n"
     ]
    },
    {
     "data": {
      "text/plain": [
       "<Figure size 432x288 with 0 Axes>"
      ]
     },
     "metadata": {},
     "output_type": "display_data"
    },
    {
     "data": {
      "image/png": "[encoded data removed]",
      "text/plain": [
       "<Figure size 288x288 with 2 Axes>"
      ]
     },
     "metadata": {
      "needs_background": "light"
     },
     "output_type": "display_data"
    },
    {
     "name": "stdout",
     "output_type": "stream",
     "text": [
      "CRIME: NON-CRIMINAL\n",
      "          Timezone    Count\n",
      "Timezone   1.00000  0.31489\n",
      "Count      0.31489  1.00000\n"
     ]
    },
    {
     "data": {
      "text/plain": [
       "<Figure size 432x288 with 0 Axes>"
      ]
     },
     "metadata": {},
     "output_type": "display_data"
    },
    {
     "data": {
      "image/png": "[encoded data removed]",
      "text/plain": [
       "<Figure size 288x288 with 2 Axes>"
      ]
     },
     "metadata": {
      "needs_background": "light"
     },
     "output_type": "display_data"
    },
    {
     "name": "stdout",
     "output_type": "stream",
     "text": [
      "CRIME: PUBLIC INDECENCY\n",
      "          Timezone     Count\n",
      "Timezone  1.000000  0.194357\n",
      "Count     0.194357  1.000000\n"
     ]
    },
    {
     "data": {
      "text/plain": [
       "<Figure size 432x288 with 0 Axes>"
      ]
     },
     "metadata": {},
     "output_type": "display_data"
    },
    {
     "data": {
      "image/png": "[encoded data removed]",
      "text/plain": [
       "<Figure size 288x288 with 2 Axes>"
      ]
     },
     "metadata": {
      "needs_background": "light"
     },
     "output_type": "display_data"
    },
    {
     "name": "stdout",
     "output_type": "stream",
     "text": [
      "CRIME: OTHER NARCOTIC VIOLATION\n",
      "          Timezone     Count\n",
      "Timezone  1.000000  0.414709\n",
      "Count     0.414709  1.000000\n"
     ]
    },
    {
     "data": {
      "text/plain": [
       "<Figure size 432x288 with 0 Axes>"
      ]
     },
     "metadata": {},
     "output_type": "display_data"
    },
    {
     "data": {
      "image/png": "[encoded data removed]",
      "text/plain": [
       "<Figure size 288x288 with 2 Axes>"
      ]
     },
     "metadata": {
      "needs_background": "light"
     },
     "output_type": "display_data"
    },
    {
     "name": "stdout",
     "output_type": "stream",
     "text": [
      "CRIME: RITUALISM\n",
      "          Timezone     Count\n",
      "Timezone  1.000000 -0.009841\n",
      "Count    -0.009841  1.000000\n"
     ]
    },
    {
     "data": {
      "text/plain": [
       "<Figure size 432x288 with 0 Axes>"
      ]
     },
     "metadata": {},
     "output_type": "display_data"
    },
    {
     "data": {
      "image/png": "[encoded data removed]",
      "text/plain": [
       "<Figure size 288x288 with 2 Axes>"
      ]
     },
     "metadata": {
      "needs_background": "light"
     },
     "output_type": "display_data"
    },
    {
     "name": "stdout",
     "output_type": "stream",
     "text": [
      "CRIME: NON - CRIMINAL\n",
      "          Timezone     Count\n",
      "Timezone  1.000000 -0.186961\n",
      "Count    -0.186961  1.000000\n"
     ]
    },
    {
     "data": {
      "text/plain": [
       "<Figure size 432x288 with 0 Axes>"
      ]
     },
     "metadata": {},
     "output_type": "display_data"
    },
    {
     "data": {
      "image/png": "[encoded data removed]",
      "text/plain": [
       "<Figure size 288x288 with 2 Axes>"
      ]
     },
     "metadata": {
      "needs_background": "light"
     },
     "output_type": "display_data"
    },
    {
     "name": "stdout",
     "output_type": "stream",
     "text": [
      "CRIME: NON-CRIMINAL (SUBJECT SPECIFIED)\n",
      "          Timezone    Count\n",
      "Timezone   1.00000  0.08547\n",
      "Count      0.08547  1.00000\n"
     ]
    },
    {
     "data": {
      "text/plain": [
       "<Figure size 432x288 with 0 Axes>"
      ]
     },
     "metadata": {},
     "output_type": "display_data"
    },
    {
     "data": {
      "image/png": "[encoded data removed]",
      "text/plain": [
       "<Figure size 288x288 with 2 Axes>"
      ]
     },
     "metadata": {
      "needs_background": "light"
     },
     "output_type": "display_data"
    },
    {
     "data": {
      "text/plain": [
       "<Figure size 432x288 with 0 Axes>"
      ]
     },
     "metadata": {},
     "output_type": "display_data"
    }
   ],
   "source": [
    "correlation = {}\n",
    "\n",
    "for i in range(len(crime_lst)):\n",
    "    tmp = c_timezone[c_timezone['Primary_Type'].isin([crime_lst[i]])]\n",
    "    t = tmp.corr()\n",
    "    if pd.isnull(t['Count'][0]):\n",
    "        continue\n",
    "    print(\"CRIME:\",crime_lst[i])\n",
    "    correlation[crime_lst[i]] = list(t.iloc[1])[0]\n",
    "    print(t)\n",
    "    plt.figure(figsize=(4,4))\n",
    "    \n",
    "    ax = sns.heatmap(data = t, annot=True, fmt = '.2f', linewidths=.5, cmap='Blues')\n",
    "    bottom, top = ax.get_ylim()\n",
    "    ax.set_ylim(bottom + 0.5, top - 0.5)\n",
    "#     sns.heatmap(data = t, annot=True, fmt = '.2f', linewidths=.5, cmap='Blues')\n",
    "#     plt.show()\n",
    "#     plt.clf()\n",
    "    \n",
    "    plt.suptitle(crime_lst[i])\n",
    "    \n",
    "    fig1 = plt.gcf()\n",
    "    plt.show()\n",
    "    plt.clf()\n",
    "    plt.draw()\n",
    "\n",
    "\n",
    "    fig1.savefig('Timezone_corr_{}.png'.format(crime_lst[i]))"
   ]
  },
  {
   "cell_type": "code",
   "execution_count": 32,
   "metadata": {},
   "outputs": [
    {
     "data": {
      "text/plain": [
       "{'THEFT': 0.5426469010300748,\n",
       " 'BATTERY': 0.6368261800686957,\n",
       " 'CRIMINAL DAMAGE': 0.5392340056769541,\n",
       " 'DECEPTIVE PRACTICE': 0.01203329549875214,\n",
       " 'NARCOTICS': 0.8116834031014165,\n",
       " 'OTHER OFFENSE': 0.5338415424482276,\n",
       " 'MOTOR VEHICLE THEFT': 0.6581695929141699,\n",
       " 'BURGLARY': 0.27989195493976304,\n",
       " 'ASSAULT': 0.7300468709390558,\n",
       " 'ROBBERY': 0.6262156290662818,\n",
       " 'CRIMINAL TRESPASS': 0.8051098702765843,\n",
       " 'OFFENSE INVOLVING CHILDREN': 0.21938145594606082,\n",
       " 'WEAPONS VIOLATION': 0.6816612138959623,\n",
       " 'CRIM SEXUAL ASSAULT': -0.25293823830149215,\n",
       " 'PROSTITUTION': 0.48560039287658835,\n",
       " 'SEX OFFENSE': 0.24612817204876547,\n",
       " 'PUBLIC PEACE VIOLATION': 0.8036412707419538,\n",
       " 'INTERFERENCE WITH PUBLIC OFFICER': 0.6741185376070221,\n",
       " 'ARSON': -0.41012085739769005,\n",
       " 'LIQUOR LAW VIOLATION': 0.6255881074880735,\n",
       " 'HOMICIDE': 0.06978632517991121,\n",
       " 'GAMBLING': 0.7886159429711048,\n",
       " 'STALKING': 0.4716891374105498,\n",
       " 'INTIMIDATION': 0.5290061222515544,\n",
       " 'KIDNAPPING': 0.4637922431041538,\n",
       " 'OBSCENITY': 0.1867450430167901,\n",
       " 'CONCEALED CARRY LICENSE VIOLATION': 0.5010204731024382,\n",
       " 'HUMAN TRAFFICKING': -0.3004023180341202,\n",
       " 'NON-CRIMINAL': 0.3148900576055322,\n",
       " 'PUBLIC INDECENCY': 0.19435650728671838,\n",
       " 'OTHER NARCOTIC VIOLATION': 0.4147091171680584,\n",
       " 'RITUALISM': -0.00984076095642141,\n",
       " 'NON - CRIMINAL': -0.1869605125068102,\n",
       " 'NON-CRIMINAL (SUBJECT SPECIFIED)': 0.08547043234472845}"
      ]
     },
     "execution_count": 32,
     "metadata": {},
     "output_type": "execute_result"
    }
   ],
   "source": [
    "correlation"
   ]
  },
  {
   "cell_type": "code",
   "execution_count": 33,
   "metadata": {},
   "outputs": [],
   "source": [
    "# pd_corr = pd.DataFrame.from_dict(correlation)\n",
    "pd_corr = pd.DataFrame(list(correlation.items()), columns=['Primary_Type', 'Correlation'])"
   ]
  },
  {
   "cell_type": "code",
   "execution_count": 34,
   "metadata": {
    "scrolled": true
   },
   "outputs": [],
   "source": [
    "pd_corr_copy= pd_corr.copy()"
   ]
  },
  {
   "cell_type": "code",
   "execution_count": 36,
   "metadata": {},
   "outputs": [],
   "source": [
    "templst = []\n",
    "for i in range(len(pd_corr_copy)):\n",
    "    templst.append(abs(list(pd_corr_copy.iloc[i])[1]))"
   ]
  },
  {
   "cell_type": "code",
   "execution_count": 37,
   "metadata": {},
   "outputs": [],
   "source": [
    "pd_corr_copy['Abs_Corr'] = templst"
   ]
  },
  {
   "cell_type": "code",
   "execution_count": 38,
   "metadata": {
    "scrolled": false
   },
   "outputs": [
    {
     "data": {
      "text/html": [
       "<div>\n",
       "<style scoped>\n",
       "    .dataframe tbody tr th:only-of-type {\n",
       "        vertical-align: middle;\n",
       "    }\n",
       "\n",
       "    .dataframe tbody tr th {\n",
       "        vertical-align: top;\n",
       "    }\n",
       "\n",
       "    .dataframe thead th {\n",
       "        text-align: right;\n",
       "    }\n",
       "</style>\n",
       "<table border=\"1\" class=\"dataframe\">\n",
       "  <thead>\n",
       "    <tr style=\"text-align: right;\">\n",
       "      <th></th>\n",
       "      <th>Primary_Type</th>\n",
       "      <th>Correlation</th>\n",
       "      <th>Abs_Corr</th>\n",
       "    </tr>\n",
       "  </thead>\n",
       "  <tbody>\n",
       "    <tr>\n",
       "      <th>4</th>\n",
       "      <td>NARCOTICS</td>\n",
       "      <td>0.811683</td>\n",
       "      <td>0.811683</td>\n",
       "    </tr>\n",
       "    <tr>\n",
       "      <th>10</th>\n",
       "      <td>CRIMINAL TRESPASS</td>\n",
       "      <td>0.805110</td>\n",
       "      <td>0.805110</td>\n",
       "    </tr>\n",
       "    <tr>\n",
       "      <th>16</th>\n",
       "      <td>PUBLIC PEACE VIOLATION</td>\n",
       "      <td>0.803641</td>\n",
       "      <td>0.803641</td>\n",
       "    </tr>\n",
       "    <tr>\n",
       "      <th>21</th>\n",
       "      <td>GAMBLING</td>\n",
       "      <td>0.788616</td>\n",
       "      <td>0.788616</td>\n",
       "    </tr>\n",
       "    <tr>\n",
       "      <th>8</th>\n",
       "      <td>ASSAULT</td>\n",
       "      <td>0.730047</td>\n",
       "      <td>0.730047</td>\n",
       "    </tr>\n",
       "    <tr>\n",
       "      <th>12</th>\n",
       "      <td>WEAPONS VIOLATION</td>\n",
       "      <td>0.681661</td>\n",
       "      <td>0.681661</td>\n",
       "    </tr>\n",
       "    <tr>\n",
       "      <th>17</th>\n",
       "      <td>INTERFERENCE WITH PUBLIC OFFICER</td>\n",
       "      <td>0.674119</td>\n",
       "      <td>0.674119</td>\n",
       "    </tr>\n",
       "    <tr>\n",
       "      <th>6</th>\n",
       "      <td>MOTOR VEHICLE THEFT</td>\n",
       "      <td>0.658170</td>\n",
       "      <td>0.658170</td>\n",
       "    </tr>\n",
       "    <tr>\n",
       "      <th>1</th>\n",
       "      <td>BATTERY</td>\n",
       "      <td>0.636826</td>\n",
       "      <td>0.636826</td>\n",
       "    </tr>\n",
       "    <tr>\n",
       "      <th>9</th>\n",
       "      <td>ROBBERY</td>\n",
       "      <td>0.626216</td>\n",
       "      <td>0.626216</td>\n",
       "    </tr>\n",
       "    <tr>\n",
       "      <th>19</th>\n",
       "      <td>LIQUOR LAW VIOLATION</td>\n",
       "      <td>0.625588</td>\n",
       "      <td>0.625588</td>\n",
       "    </tr>\n",
       "    <tr>\n",
       "      <th>0</th>\n",
       "      <td>THEFT</td>\n",
       "      <td>0.542647</td>\n",
       "      <td>0.542647</td>\n",
       "    </tr>\n",
       "    <tr>\n",
       "      <th>2</th>\n",
       "      <td>CRIMINAL DAMAGE</td>\n",
       "      <td>0.539234</td>\n",
       "      <td>0.539234</td>\n",
       "    </tr>\n",
       "    <tr>\n",
       "      <th>5</th>\n",
       "      <td>OTHER OFFENSE</td>\n",
       "      <td>0.533842</td>\n",
       "      <td>0.533842</td>\n",
       "    </tr>\n",
       "    <tr>\n",
       "      <th>23</th>\n",
       "      <td>INTIMIDATION</td>\n",
       "      <td>0.529006</td>\n",
       "      <td>0.529006</td>\n",
       "    </tr>\n",
       "    <tr>\n",
       "      <th>26</th>\n",
       "      <td>CONCEALED CARRY LICENSE VIOLATION</td>\n",
       "      <td>0.501020</td>\n",
       "      <td>0.501020</td>\n",
       "    </tr>\n",
       "    <tr>\n",
       "      <th>14</th>\n",
       "      <td>PROSTITUTION</td>\n",
       "      <td>0.485600</td>\n",
       "      <td>0.485600</td>\n",
       "    </tr>\n",
       "    <tr>\n",
       "      <th>22</th>\n",
       "      <td>STALKING</td>\n",
       "      <td>0.471689</td>\n",
       "      <td>0.471689</td>\n",
       "    </tr>\n",
       "    <tr>\n",
       "      <th>24</th>\n",
       "      <td>KIDNAPPING</td>\n",
       "      <td>0.463792</td>\n",
       "      <td>0.463792</td>\n",
       "    </tr>\n",
       "    <tr>\n",
       "      <th>30</th>\n",
       "      <td>OTHER NARCOTIC VIOLATION</td>\n",
       "      <td>0.414709</td>\n",
       "      <td>0.414709</td>\n",
       "    </tr>\n",
       "    <tr>\n",
       "      <th>18</th>\n",
       "      <td>ARSON</td>\n",
       "      <td>-0.410121</td>\n",
       "      <td>0.410121</td>\n",
       "    </tr>\n",
       "    <tr>\n",
       "      <th>28</th>\n",
       "      <td>NON-CRIMINAL</td>\n",
       "      <td>0.314890</td>\n",
       "      <td>0.314890</td>\n",
       "    </tr>\n",
       "    <tr>\n",
       "      <th>27</th>\n",
       "      <td>HUMAN TRAFFICKING</td>\n",
       "      <td>-0.300402</td>\n",
       "      <td>0.300402</td>\n",
       "    </tr>\n",
       "    <tr>\n",
       "      <th>7</th>\n",
       "      <td>BURGLARY</td>\n",
       "      <td>0.279892</td>\n",
       "      <td>0.279892</td>\n",
       "    </tr>\n",
       "    <tr>\n",
       "      <th>13</th>\n",
       "      <td>CRIM SEXUAL ASSAULT</td>\n",
       "      <td>-0.252938</td>\n",
       "      <td>0.252938</td>\n",
       "    </tr>\n",
       "    <tr>\n",
       "      <th>15</th>\n",
       "      <td>SEX OFFENSE</td>\n",
       "      <td>0.246128</td>\n",
       "      <td>0.246128</td>\n",
       "    </tr>\n",
       "    <tr>\n",
       "      <th>11</th>\n",
       "      <td>OFFENSE INVOLVING CHILDREN</td>\n",
       "      <td>0.219381</td>\n",
       "      <td>0.219381</td>\n",
       "    </tr>\n",
       "    <tr>\n",
       "      <th>29</th>\n",
       "      <td>PUBLIC INDECENCY</td>\n",
       "      <td>0.194357</td>\n",
       "      <td>0.194357</td>\n",
       "    </tr>\n",
       "    <tr>\n",
       "      <th>32</th>\n",
       "      <td>NON - CRIMINAL</td>\n",
       "      <td>-0.186961</td>\n",
       "      <td>0.186961</td>\n",
       "    </tr>\n",
       "    <tr>\n",
       "      <th>25</th>\n",
       "      <td>OBSCENITY</td>\n",
       "      <td>0.186745</td>\n",
       "      <td>0.186745</td>\n",
       "    </tr>\n",
       "    <tr>\n",
       "      <th>33</th>\n",
       "      <td>NON-CRIMINAL (SUBJECT SPECIFIED)</td>\n",
       "      <td>0.085470</td>\n",
       "      <td>0.085470</td>\n",
       "    </tr>\n",
       "    <tr>\n",
       "      <th>20</th>\n",
       "      <td>HOMICIDE</td>\n",
       "      <td>0.069786</td>\n",
       "      <td>0.069786</td>\n",
       "    </tr>\n",
       "    <tr>\n",
       "      <th>3</th>\n",
       "      <td>DECEPTIVE PRACTICE</td>\n",
       "      <td>0.012033</td>\n",
       "      <td>0.012033</td>\n",
       "    </tr>\n",
       "    <tr>\n",
       "      <th>31</th>\n",
       "      <td>RITUALISM</td>\n",
       "      <td>-0.009841</td>\n",
       "      <td>0.009841</td>\n",
       "    </tr>\n",
       "  </tbody>\n",
       "</table>\n",
       "</div>"
      ],
      "text/plain": [
       "                         Primary_Type  Correlation  Abs_Corr\n",
       "4                           NARCOTICS     0.811683  0.811683\n",
       "10                  CRIMINAL TRESPASS     0.805110  0.805110\n",
       "16             PUBLIC PEACE VIOLATION     0.803641  0.803641\n",
       "21                           GAMBLING     0.788616  0.788616\n",
       "8                             ASSAULT     0.730047  0.730047\n",
       "12                  WEAPONS VIOLATION     0.681661  0.681661\n",
       "17   INTERFERENCE WITH PUBLIC OFFICER     0.674119  0.674119\n",
       "6                 MOTOR VEHICLE THEFT     0.658170  0.658170\n",
       "1                             BATTERY     0.636826  0.636826\n",
       "9                             ROBBERY     0.626216  0.626216\n",
       "19               LIQUOR LAW VIOLATION     0.625588  0.625588\n",
       "0                               THEFT     0.542647  0.542647\n",
       "2                     CRIMINAL DAMAGE     0.539234  0.539234\n",
       "5                       OTHER OFFENSE     0.533842  0.533842\n",
       "23                       INTIMIDATION     0.529006  0.529006\n",
       "26  CONCEALED CARRY LICENSE VIOLATION     0.501020  0.501020\n",
       "14                       PROSTITUTION     0.485600  0.485600\n",
       "22                           STALKING     0.471689  0.471689\n",
       "24                         KIDNAPPING     0.463792  0.463792\n",
       "30           OTHER NARCOTIC VIOLATION     0.414709  0.414709\n",
       "18                              ARSON    -0.410121  0.410121\n",
       "28                       NON-CRIMINAL     0.314890  0.314890\n",
       "27                  HUMAN TRAFFICKING    -0.300402  0.300402\n",
       "7                            BURGLARY     0.279892  0.279892\n",
       "13                CRIM SEXUAL ASSAULT    -0.252938  0.252938\n",
       "15                        SEX OFFENSE     0.246128  0.246128\n",
       "11         OFFENSE INVOLVING CHILDREN     0.219381  0.219381\n",
       "29                   PUBLIC INDECENCY     0.194357  0.194357\n",
       "32                     NON - CRIMINAL    -0.186961  0.186961\n",
       "25                          OBSCENITY     0.186745  0.186745\n",
       "33   NON-CRIMINAL (SUBJECT SPECIFIED)     0.085470  0.085470\n",
       "20                           HOMICIDE     0.069786  0.069786\n",
       "3                  DECEPTIVE PRACTICE     0.012033  0.012033\n",
       "31                          RITUALISM    -0.009841  0.009841"
      ]
     },
     "execution_count": 38,
     "metadata": {},
     "output_type": "execute_result"
    }
   ],
   "source": [
    "pd_corr_copy.sort_values(by = [\"Abs_Corr\"], ascending=[False])"
   ]
  }
 ],
 "metadata": {
  "kernelspec": {
   "display_name": "Python 3",
   "language": "python",
   "name": "python3"
  },
  "language_info": {
   "codemirror_mode": {
    "name": "ipython",
    "version": 3
   },
   "file_extension": ".py",
   "mimetype": "text/x-python",
   "name": "python",
   "nbconvert_exporter": "python",
   "pygments_lexer": "ipython3",
   "version": "3.6.4"
  }
 },
 "nbformat": 4,
 "nbformat_minor": 2
}
